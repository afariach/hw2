{
 "cells": [
  {
   "cell_type": "code",
   "execution_count": 1,
   "source": [
    "import Pkg; Pkg.activate(joinpath(@__DIR__,\"..\")); Pkg.instantiate()\n",
    "using LinearAlgebra\n",
    "using SparseArrays\n",
    "using ForwardDiff\n",
    "using OSQP\n",
    "using RobotDynamics\n",
    "using RobotZoo: PlanarRocket\n",
    "using RobotZoo\n",
    "using StaticArrays\n",
    "using Plots\n",
    "using JLD2\n",
    "using Test\n",
    "using Statistics\n",
    "using ControlSystems\n",
    "const resfile = joinpath(@__DIR__, \"Q3.jld2\")\n",
    "include(\"rocket.jl\")\n",
    "const isautograder = @isdefined autograder"
   ],
   "outputs": [
    {
     "output_type": "stream",
     "name": "stderr",
     "text": [
      "\u001b[32m\u001b[1m  Activating\u001b[22m\u001b[39m environment at `~/Desktop/OptimalC/hw2/Project.toml`\n"
     ]
    },
    {
     "data": {
      "text/plain": [
       "false"
      ]
     },
     "metadata": {},
     "output_type": "display_data"
    }
   ],
   "metadata": {}
  },
  {
   "cell_type": "markdown",
   "source": [
    "# Question 3: Writing an MPC Controller (50 pts)\n",
    "In this problem we'll compare the performance of LQR with a QP-based MPC controller for landing a rocket booster. \n",
    "\n",
    "## The Dynamics\n",
    "We'll be solving a simplified version of the rocket soft landing problem. We'll only be considering a planar version where we control the lateral and vertical movement of the rocket by rotating the thrust vector. The dynamics are as follows:\n",
    "\n",
    "$$ \n",
    "x = \\begin{bmatrix} p_x \\\\ p_z \\\\ \\theta \\\\ v_x \\\\ v_z \\\\ \\omega \\\\ T \\\\ \\phi \\end{bmatrix}, \\quad\n",
    "u = \\begin{bmatrix} \\dot{T} \\\\ \\dot{\\phi} \\end{bmatrix}, \\quad\n",
    "\\dot{x} = \\begin{bmatrix}\n",
    "v_z \\\\ v_z \\\\ \\omega \\\\\n",
    "\\frac{T}{m} \\cos{(\\theta + \\phi)} \\\\ \n",
    "\\frac{T}{m} \\sin{(\\theta + \\phi)} \\\\\n",
    "\\frac{T}{2J} L \\sin(\\phi) \\\\\n",
    "\\dot{T} \\\\ \\dot{\\phi}\n",
    "\\end{bmatrix}\n",
    "$$\n",
    "where $p_x$ is the lateral displacement, $p_z$ is the altitude, $\\theta$ is the roll angle, $v_x$ and $v_z$ are the linear velocities, $\\omega$ is the roll rate, $T$ is the total thrust, $\\phi$ is the thrust angle, $\\dot{T}$ and $\\dot{\\phi}$ are the thrust and thrust angle rates, $m$ is the mass, $J$ is the moment of inertia, $L$ is the distance from the thruster to the center of mass, and $g$ is gravity.\n",
    "\n",
    "To keep our solution stable and safe, we'll saturate our thrust to be between 75%-150% of the nominal gravity-compensating thrust, our thrust angle with $\\pm$10 degrees, and our roll angle between $\\pm$5 degrees.\n",
    "\n",
    "Again, we've already defined a `RobotDynamics` model that implements these dynamics for you, but it's helpful to understand the dynamics model you're working with.\n",
    "\n",
    "**NOTE**: We're using RobotDynamics v0.3.4. A newer version exists with a refreshed API, but we'll stick with this version since it's a little simpler.\n",
    "\n",
    "## Our Goal\n",
    "During this problem we will generate an LQR controller, an unconstrained MPC controller, and a constrained MPC controller. We will use each of these controllers to solve a simplified version of the \"rocket soft landing problem.\" The final output using the constrained MPC solver should look something like this:\n",
    "![rocket](../rocket.gif)"
   ],
   "metadata": {}
  },
  {
   "cell_type": "code",
   "execution_count": 4,
   "source": [
    "# NOTE: While using global variables is typically discouraged in Julia, feel free to use\n",
    "#       any of the variables marked \"const\" within your methods.\n",
    "\n",
    "# Planar Rocket model\n",
    "model = PlanarRocket(max_roll=5.0)\n",
    "const n = state_dim(model)\n",
    "const m = control_dim(model)\n",
    "const xeq = [zeros(6); model.m*model.g; 0]\n",
    "const ueq = zeros(2) \n",
    "norm(dynamics(model, xeq, ueq)) ≈ 0 # make sure it's an equilibrium point\n",
    "const dt = 0.1  # time step (s)\n",
    "const tf = 25   # time horizon (s)\n",
    "const N = Int(tf / dt) + 1\n",
    "\n",
    "# Evaluate the continuous and discrete Jacobians\n",
    "zeq = KnotPoint(xeq,ueq,dt)   # create a `KnotPoint` type that stores everything together\n",
    "∇f = RobotDynamics.DynamicsJacobian(model)\n",
    "jacobian!(∇f, model, zeq)\n",
    "discrete_jacobian!(RK4, ∇f, model, zeq)\n",
    "\n",
    "# Extract pieces of the Jacobian\n",
    "const A = ∇f.A\n",
    "const B = ∇f.B;\n",
    "\n",
    "# Cost matrices (using Bryson's Rule)\n",
    "const Q = Diagonal([\n",
    "    1.0/5^2; \n",
    "    1.0/5^2; \n",
    "    1.0/(10*pi/180)^2; \n",
    "    10.0/5^2; \n",
    "    10.0/5^2; \n",
    "    10.0/(10*pi/180)^2;\n",
    "    1/(.1*model.m*model.g)^2; \n",
    "    1/(10*pi/180)^2\n",
    "])\n",
    "const R = Diagonal([\n",
    "    1/(20*model.m*model.g)^2,\n",
    "    1/(deg2rad(10))^2\n",
    "])"
   ],
   "outputs": [
    {
     "output_type": "stream",
     "name": "stderr",
     "text": [
      "WARNING: redefinition of constant xeq. This may fail, cause incorrect answers, or produce other errors.\n",
      "WARNING: redefinition of constant ueq. This may fail, cause incorrect answers, or produce other errors.\n",
      "WARNING: redefinition of constant A. This may fail, cause incorrect answers, or produce other errors.\n",
      "WARNING: redefinition of constant B. This may fail, cause incorrect answers, or produce other errors.\n",
      "WARNING: redefinition of constant Q. This may fail, cause incorrect answers, or produce other errors.\n",
      "WARNING: redefinition of constant R. This may fail, cause incorrect answers, or produce other errors.\n"
     ]
    },
    {
     "data": {
      "text/plain": [
       "2×2 Diagonal{Float64, Vector{Float64}}:\n",
       " 2.59778e-9    ⋅ \n",
       "  ⋅          32.8281"
      ]
     },
     "metadata": {},
     "output_type": "display_data"
    }
   ],
   "metadata": {}
  },
  {
   "cell_type": "markdown",
   "source": [
    "## Part (a): Design a reference trajectory (3 pts)\n",
    "As we saw in previous problem, we'll need a reference trajectory for our controller. However, in this case our reference trajectory is a very simple trajectory that provides a reasonable guess but we expect the actual solution to be different. We'll later see how this reference trajectory affects the performance of our controller.\n",
    "\n",
    "For the rocket problem, we'll be starting at an altitude of 500m and 200m to the West of our landing location. We'll use a simple linear interpolation from our expected initial state and our goal location. "
   ],
   "metadata": {}
  },
  {
   "cell_type": "code",
   "execution_count": 155,
   "source": [
    "# TASK: implement this method (3 pts)\n",
    "\"\"\"\n",
    "    nominal_trajectory(x0, N, dt)\n",
    "\n",
    "Generate the nominal trajectory for the rocket problem, given the initial state `x0`,\n",
    "horizon length `N`, and time step `dt`. \n",
    "\n",
    "The guess should be a linear interpolation of the positions.\n",
    "The velocities should should be consistent with the positions (i.e. constant).\n",
    "The last state should be have position and velocity of 0, but the same nominal\n",
    "actuator commands as initial state (i.e. T and ϕ should be constant)\n",
    "\n",
    "**TIP**: Use a simple finite difference to calculate the velocities.\n",
    "\"\"\"\n",
    "function pz(px)\n",
    "    return -(5/2)*px\n",
    "end \n",
    "function nominal_trajectory(x0,N,dt)\n",
    "    Xref = [fill(NaN, length(x0)) for k = 1:N]\n",
    "    p_x = Vector(range(x0[1],0,length = N))\n",
    "    p_z = pz.(p_x)\n",
    "    Xref[1] = x0\n",
    "    for k = 1:(N-2)\n",
    "        Xref[k+1] = [p_x[k+1],p_z[k+1],x0[3],(p_x[k+2]-p_x[k+1])/dt,(p_z[k+2]-p_z[k+1])/dt,x0[6],x0[7],x0[8]]\n",
    "    end\n",
    "    @show p_x[N-1]\n",
    "    Xref[N] = [p_x[N],p_z[N],0,(p_x[N]-p_x[N-1])/dt,(p_z[N]-p_z[N-1])/dt,0,x0[7],x0[8]]\n",
    "    # Xref[N] = [p_x[N],p_z[N],0,0,0,0,x0[7],x0[8]]\n",
    "    @show Xref[N-1]\n",
    "    # TODO: Design a trajectory that linearly interpolates from x0 to the origin\n",
    "    return SVector{8}.(Xref)\n",
    "end"
   ],
   "outputs": [
    {
     "data": {
      "text/plain": [
       "nominal_trajectory (generic function with 1 method)"
      ]
     },
     "metadata": {},
     "output_type": "display_data"
    }
   ],
   "metadata": {}
  },
  {
   "cell_type": "code",
   "execution_count": 156,
   "source": [
    "# Start 500m off the ground and 200m West\n",
    "x0_ref = [-200, 500, 0, 0, 0, 0, 0, 0.] + xeq\n",
    "\n",
    "# Generate reference trajectory\n",
    "Xref = nominal_trajectory(x0_ref,N,dt)\n",
    "# @show Xref\n",
    "@show mean(diff(Xref)[1:end-1])\n",
    "Uref = [copy(ueq) for k = 1:N]\n",
    "tref = range(0,tf, length=N)\n",
    "# plot(Xref)\n",
    "# Plot the trajectory\n",
    "isautograder || traj2(Xref, xlabel=\"x (m)\", ylabel=\"altitude (m)\", label=\"\")"
   ],
   "outputs": [
    {
     "output_type": "stream",
     "name": "stdout",
     "text": [
      "p_x[N - 1] = -0.8\n",
      "Xref[N - 1] = [-0.8, 2.0, 0.0, 8.0, -20.0, 0.0, 981.0, 0.0]\n",
      "mean((diff(Xref))[1:end - 1]) = [0.800000000000004, -2.0, 0.0, 0.0321285140562249, -0.08032128514056225, 0.0, 0.0, 0.0]\n"
     ]
    },
    {
     "data": {
      "image/svg+xml": "<?xml version=\"1.0\" encoding=\"utf-8\"?>\n<svg xmlns=\"http://www.w3.org/2000/svg\" xmlns:xlink=\"http://www.w3.org/1999/xlink\" width=\"600\" height=\"400\" viewBox=\"0 0 2400 1600\">\n<defs>\n  <clipPath id=\"clip620\">\n    <rect x=\"0\" y=\"0\" width=\"2400\" height=\"1600\"/>\n  </clipPath>\n</defs>\n<path clip-path=\"url(#clip620)\" d=\"\nM0 1600 L2400 1600 L2400 0 L0 0  Z\n  \" fill=\"#ffffff\" fill-rule=\"evenodd\" fill-opacity=\"1\"/>\n<defs>\n  <clipPath id=\"clip621\">\n    <rect x=\"480\" y=\"0\" width=\"1681\" height=\"1600\"/>\n  </clipPath>\n</defs>\n<path clip-path=\"url(#clip620)\" d=\"\nM235.283 1423.18 L2352.76 1423.18 L2352.76 47.2441 L235.283 47.2441  Z\n  \" fill=\"#ffffff\" fill-rule=\"evenodd\" fill-opacity=\"1\"/>\n<defs>\n  <clipPath id=\"clip622\">\n    <rect x=\"235\" y=\"47\" width=\"2118\" height=\"1377\"/>\n  </clipPath>\n</defs>\n<polyline clip-path=\"url(#clip622)\" style=\"stroke:#000000; stroke-linecap:butt; stroke-linejoin:round; stroke-width:2; stroke-opacity:0.1; fill:none\" points=\"\n  295.211,1423.18 295.211,47.2441 \n  \"/>\n<polyline clip-path=\"url(#clip622)\" style=\"stroke:#000000; stroke-linecap:butt; stroke-linejoin:round; stroke-width:2; stroke-opacity:0.1; fill:none\" points=\"\n  794.615,1423.18 794.615,47.2441 \n  \"/>\n<polyline clip-path=\"url(#clip622)\" style=\"stroke:#000000; stroke-linecap:butt; stroke-linejoin:round; stroke-width:2; stroke-opacity:0.1; fill:none\" points=\"\n  1294.02,1423.18 1294.02,47.2441 \n  \"/>\n<polyline clip-path=\"url(#clip622)\" style=\"stroke:#000000; stroke-linecap:butt; stroke-linejoin:round; stroke-width:2; stroke-opacity:0.1; fill:none\" points=\"\n  1793.42,1423.18 1793.42,47.2441 \n  \"/>\n<polyline clip-path=\"url(#clip622)\" style=\"stroke:#000000; stroke-linecap:butt; stroke-linejoin:round; stroke-width:2; stroke-opacity:0.1; fill:none\" points=\"\n  2292.83,1423.18 2292.83,47.2441 \n  \"/>\n<polyline clip-path=\"url(#clip620)\" style=\"stroke:#000000; stroke-linecap:butt; stroke-linejoin:round; stroke-width:4; stroke-opacity:1; fill:none\" points=\"\n  235.283,1423.18 2352.76,1423.18 \n  \"/>\n<polyline clip-path=\"url(#clip620)\" style=\"stroke:#000000; stroke-linecap:butt; stroke-linejoin:round; stroke-width:4; stroke-opacity:1; fill:none\" points=\"\n  295.211,1423.18 295.211,1404.28 \n  \"/>\n<polyline clip-path=\"url(#clip620)\" style=\"stroke:#000000; stroke-linecap:butt; stroke-linejoin:round; stroke-width:4; stroke-opacity:1; fill:none\" points=\"\n  794.615,1423.18 794.615,1404.28 \n  \"/>\n<polyline clip-path=\"url(#clip620)\" style=\"stroke:#000000; stroke-linecap:butt; stroke-linejoin:round; stroke-width:4; stroke-opacity:1; fill:none\" points=\"\n  1294.02,1423.18 1294.02,1404.28 \n  \"/>\n<polyline clip-path=\"url(#clip620)\" style=\"stroke:#000000; stroke-linecap:butt; stroke-linejoin:round; stroke-width:4; stroke-opacity:1; fill:none\" points=\"\n  1793.42,1423.18 1793.42,1404.28 \n  \"/>\n<polyline clip-path=\"url(#clip620)\" style=\"stroke:#000000; stroke-linecap:butt; stroke-linejoin:round; stroke-width:4; stroke-opacity:1; fill:none\" points=\"\n  2292.83,1423.18 2292.83,1404.28 \n  \"/>\n<path clip-path=\"url(#clip620)\" d=\"M234.193 1468.75 L263.869 1468.75 L263.869 1472.69 L234.193 1472.69 L234.193 1468.75 Z\" fill=\"#000000\" fill-rule=\"evenodd\" fill-opacity=\"1\" /><path clip-path=\"url(#clip620)\" d=\"M277.989 1481.64 L294.309 1481.64 L294.309 1485.58 L272.364 1485.58 L272.364 1481.64 Q275.026 1478.89 279.61 1474.26 Q284.216 1469.61 285.397 1468.27 Q287.642 1465.74 288.522 1464.01 Q289.424 1462.25 289.424 1460.56 Q289.424 1457.8 287.48 1456.07 Q285.559 1454.33 282.457 1454.33 Q280.258 1454.33 277.804 1455.09 Q275.373 1455.86 272.596 1457.41 L272.596 1452.69 Q275.42 1451.55 277.873 1450.97 Q280.327 1450.39 282.364 1450.39 Q287.735 1450.39 290.929 1453.08 Q294.123 1455.77 294.123 1460.26 Q294.123 1462.39 293.313 1464.31 Q292.526 1466.2 290.42 1468.8 Q289.841 1469.47 286.739 1472.69 Q283.637 1475.88 277.989 1481.64 Z\" fill=\"#000000\" fill-rule=\"evenodd\" fill-opacity=\"1\" /><path clip-path=\"url(#clip620)\" d=\"M314.123 1454.1 Q310.512 1454.1 308.683 1457.66 Q306.878 1461.2 306.878 1468.33 Q306.878 1475.44 308.683 1479.01 Q310.512 1482.55 314.123 1482.55 Q317.758 1482.55 319.563 1479.01 Q321.392 1475.44 321.392 1468.33 Q321.392 1461.2 319.563 1457.66 Q317.758 1454.1 314.123 1454.1 M314.123 1450.39 Q319.933 1450.39 322.989 1455 Q326.068 1459.58 326.068 1468.33 Q326.068 1477.06 322.989 1481.67 Q319.933 1486.25 314.123 1486.25 Q308.313 1486.25 305.234 1481.67 Q302.179 1477.06 302.179 1468.33 Q302.179 1459.58 305.234 1455 Q308.313 1450.39 314.123 1450.39 Z\" fill=\"#000000\" fill-rule=\"evenodd\" fill-opacity=\"1\" /><path clip-path=\"url(#clip620)\" d=\"M344.285 1454.1 Q340.674 1454.1 338.845 1457.66 Q337.04 1461.2 337.04 1468.33 Q337.04 1475.44 338.845 1479.01 Q340.674 1482.55 344.285 1482.55 Q347.919 1482.55 349.725 1479.01 Q351.554 1475.44 351.554 1468.33 Q351.554 1461.2 349.725 1457.66 Q347.919 1454.1 344.285 1454.1 M344.285 1450.39 Q350.095 1450.39 353.151 1455 Q356.23 1459.58 356.23 1468.33 Q356.23 1477.06 353.151 1481.67 Q350.095 1486.25 344.285 1486.25 Q338.475 1486.25 335.396 1481.67 Q332.341 1477.06 332.341 1468.33 Q332.341 1459.58 335.396 1455 Q338.475 1450.39 344.285 1450.39 Z\" fill=\"#000000\" fill-rule=\"evenodd\" fill-opacity=\"1\" /><path clip-path=\"url(#clip620)\" d=\"M733.597 1468.75 L763.273 1468.75 L763.273 1472.69 L733.597 1472.69 L733.597 1468.75 Z\" fill=\"#000000\" fill-rule=\"evenodd\" fill-opacity=\"1\" /><path clip-path=\"url(#clip620)\" d=\"M774.176 1481.64 L781.814 1481.64 L781.814 1455.28 L773.504 1456.95 L773.504 1452.69 L781.768 1451.02 L786.444 1451.02 L786.444 1481.64 L794.083 1481.64 L794.083 1485.58 L774.176 1485.58 L774.176 1481.64 Z\" fill=\"#000000\" fill-rule=\"evenodd\" fill-opacity=\"1\" /><path clip-path=\"url(#clip620)\" d=\"M803.574 1451.02 L821.93 1451.02 L821.93 1454.96 L807.856 1454.96 L807.856 1463.43 Q808.875 1463.08 809.893 1462.92 Q810.912 1462.73 811.93 1462.73 Q817.717 1462.73 821.097 1465.9 Q824.476 1469.08 824.476 1474.49 Q824.476 1480.07 821.004 1483.17 Q817.532 1486.25 811.212 1486.25 Q809.037 1486.25 806.768 1485.88 Q804.523 1485.51 802.115 1484.77 L802.115 1480.07 Q804.199 1481.2 806.421 1481.76 Q808.643 1482.32 811.12 1482.32 Q815.125 1482.32 817.462 1480.21 Q819.8 1478.1 819.8 1474.49 Q819.8 1470.88 817.462 1468.77 Q815.125 1466.67 811.12 1466.67 Q809.245 1466.67 807.37 1467.08 Q805.518 1467.5 803.574 1468.38 L803.574 1451.02 Z\" fill=\"#000000\" fill-rule=\"evenodd\" fill-opacity=\"1\" /><path clip-path=\"url(#clip620)\" d=\"M843.689 1454.1 Q840.078 1454.1 838.249 1457.66 Q836.444 1461.2 836.444 1468.33 Q836.444 1475.44 838.249 1479.01 Q840.078 1482.55 843.689 1482.55 Q847.323 1482.55 849.129 1479.01 Q850.958 1475.44 850.958 1468.33 Q850.958 1461.2 849.129 1457.66 Q847.323 1454.1 843.689 1454.1 M843.689 1450.39 Q849.499 1450.39 852.555 1455 Q855.634 1459.58 855.634 1468.33 Q855.634 1477.06 852.555 1481.67 Q849.499 1486.25 843.689 1486.25 Q837.879 1486.25 834.8 1481.67 Q831.745 1477.06 831.745 1468.33 Q831.745 1459.58 834.8 1455 Q837.879 1450.39 843.689 1450.39 Z\" fill=\"#000000\" fill-rule=\"evenodd\" fill-opacity=\"1\" /><path clip-path=\"url(#clip620)\" d=\"M1233 1468.75 L1262.68 1468.75 L1262.68 1472.69 L1233 1472.69 L1233 1468.75 Z\" fill=\"#000000\" fill-rule=\"evenodd\" fill-opacity=\"1\" /><path clip-path=\"url(#clip620)\" d=\"M1273.58 1481.64 L1281.22 1481.64 L1281.22 1455.28 L1272.91 1456.95 L1272.91 1452.69 L1281.17 1451.02 L1285.85 1451.02 L1285.85 1481.64 L1293.49 1481.64 L1293.49 1485.58 L1273.58 1485.58 L1273.58 1481.64 Z\" fill=\"#000000\" fill-rule=\"evenodd\" fill-opacity=\"1\" /><path clip-path=\"url(#clip620)\" d=\"M1312.93 1454.1 Q1309.32 1454.1 1307.49 1457.66 Q1305.69 1461.2 1305.69 1468.33 Q1305.69 1475.44 1307.49 1479.01 Q1309.32 1482.55 1312.93 1482.55 Q1316.57 1482.55 1318.37 1479.01 Q1320.2 1475.44 1320.2 1468.33 Q1320.2 1461.2 1318.37 1457.66 Q1316.57 1454.1 1312.93 1454.1 M1312.93 1450.39 Q1318.74 1450.39 1321.8 1455 Q1324.88 1459.58 1324.88 1468.33 Q1324.88 1477.06 1321.8 1481.67 Q1318.74 1486.25 1312.93 1486.25 Q1307.12 1486.25 1304.04 1481.67 Q1300.99 1477.06 1300.99 1468.33 Q1300.99 1459.58 1304.04 1455 Q1307.12 1450.39 1312.93 1450.39 Z\" fill=\"#000000\" fill-rule=\"evenodd\" fill-opacity=\"1\" /><path clip-path=\"url(#clip620)\" d=\"M1343.09 1454.1 Q1339.48 1454.1 1337.65 1457.66 Q1335.85 1461.2 1335.85 1468.33 Q1335.85 1475.44 1337.65 1479.01 Q1339.48 1482.55 1343.09 1482.55 Q1346.73 1482.55 1348.53 1479.01 Q1350.36 1475.44 1350.36 1468.33 Q1350.36 1461.2 1348.53 1457.66 Q1346.73 1454.1 1343.09 1454.1 M1343.09 1450.39 Q1348.9 1450.39 1351.96 1455 Q1355.04 1459.58 1355.04 1468.33 Q1355.04 1477.06 1351.96 1481.67 Q1348.9 1486.25 1343.09 1486.25 Q1337.28 1486.25 1334.2 1481.67 Q1331.15 1477.06 1331.15 1468.33 Q1331.15 1459.58 1334.2 1455 Q1337.28 1450.39 1343.09 1450.39 Z\" fill=\"#000000\" fill-rule=\"evenodd\" fill-opacity=\"1\" /><path clip-path=\"url(#clip620)\" d=\"M1747.49 1468.75 L1777.16 1468.75 L1777.16 1472.69 L1747.49 1472.69 L1747.49 1468.75 Z\" fill=\"#000000\" fill-rule=\"evenodd\" fill-opacity=\"1\" /><path clip-path=\"url(#clip620)\" d=\"M1787.3 1451.02 L1805.66 1451.02 L1805.66 1454.96 L1791.58 1454.96 L1791.58 1463.43 Q1792.6 1463.08 1793.62 1462.92 Q1794.64 1462.73 1795.66 1462.73 Q1801.44 1462.73 1804.82 1465.9 Q1808.2 1469.08 1808.2 1474.49 Q1808.2 1480.07 1804.73 1483.17 Q1801.26 1486.25 1794.94 1486.25 Q1792.76 1486.25 1790.5 1485.88 Q1788.25 1485.51 1785.84 1484.77 L1785.84 1480.07 Q1787.93 1481.2 1790.15 1481.76 Q1792.37 1482.32 1794.85 1482.32 Q1798.85 1482.32 1801.19 1480.21 Q1803.53 1478.1 1803.53 1474.49 Q1803.53 1470.88 1801.19 1468.77 Q1798.85 1466.67 1794.85 1466.67 Q1792.97 1466.67 1791.1 1467.08 Q1789.25 1467.5 1787.3 1468.38 L1787.3 1451.02 Z\" fill=\"#000000\" fill-rule=\"evenodd\" fill-opacity=\"1\" /><path clip-path=\"url(#clip620)\" d=\"M1827.42 1454.1 Q1823.81 1454.1 1821.98 1457.66 Q1820.17 1461.2 1820.17 1468.33 Q1820.17 1475.44 1821.98 1479.01 Q1823.81 1482.55 1827.42 1482.55 Q1831.05 1482.55 1832.86 1479.01 Q1834.68 1475.44 1834.68 1468.33 Q1834.68 1461.2 1832.86 1457.66 Q1831.05 1454.1 1827.42 1454.1 M1827.42 1450.39 Q1833.23 1450.39 1836.28 1455 Q1839.36 1459.58 1839.36 1468.33 Q1839.36 1477.06 1836.28 1481.67 Q1833.23 1486.25 1827.42 1486.25 Q1821.61 1486.25 1818.53 1481.67 Q1815.47 1477.06 1815.47 1468.33 Q1815.47 1459.58 1818.53 1455 Q1821.61 1450.39 1827.42 1450.39 Z\" fill=\"#000000\" fill-rule=\"evenodd\" fill-opacity=\"1\" /><path clip-path=\"url(#clip620)\" d=\"M2292.83 1454.1 Q2289.22 1454.1 2287.39 1457.66 Q2285.58 1461.2 2285.58 1468.33 Q2285.58 1475.44 2287.39 1479.01 Q2289.22 1482.55 2292.83 1482.55 Q2296.46 1482.55 2298.27 1479.01 Q2300.1 1475.44 2300.1 1468.33 Q2300.1 1461.2 2298.27 1457.66 Q2296.46 1454.1 2292.83 1454.1 M2292.83 1450.39 Q2298.64 1450.39 2301.69 1455 Q2304.77 1459.58 2304.77 1468.33 Q2304.77 1477.06 2301.69 1481.67 Q2298.64 1486.25 2292.83 1486.25 Q2287.02 1486.25 2283.94 1481.67 Q2280.88 1477.06 2280.88 1468.33 Q2280.88 1459.58 2283.94 1455 Q2287.02 1450.39 2292.83 1450.39 Z\" fill=\"#000000\" fill-rule=\"evenodd\" fill-opacity=\"1\" /><path clip-path=\"url(#clip620)\" d=\"M1244.83 1532.4 L1231.94 1549.74 L1245.5 1568.04 L1238.59 1568.04 L1228.21 1554.04 L1217.84 1568.04 L1210.93 1568.04 L1224.78 1549.39 L1212.11 1532.4 L1219.02 1532.4 L1228.47 1545.1 L1237.92 1532.4 L1244.83 1532.4 Z\" fill=\"#000000\" fill-rule=\"evenodd\" fill-opacity=\"1\" /><path clip-path=\"url(#clip620)\" d=\"M1288.56 1518.58 Q1284.3 1525.9 1282.23 1533.06 Q1280.16 1540.23 1280.16 1547.58 Q1280.16 1554.93 1282.23 1562.16 Q1284.33 1569.35 1288.56 1576.64 L1283.47 1576.64 Q1278.69 1569.16 1276.31 1561.93 Q1273.95 1554.71 1273.95 1547.58 Q1273.95 1540.48 1276.31 1533.29 Q1278.66 1526.09 1283.47 1518.58 L1288.56 1518.58 Z\" fill=\"#000000\" fill-rule=\"evenodd\" fill-opacity=\"1\" /><path clip-path=\"url(#clip620)\" d=\"M1327.68 1539.24 Q1329.87 1535.29 1332.93 1533.41 Q1335.99 1531.54 1340.12 1531.54 Q1345.69 1531.54 1348.72 1535.45 Q1351.74 1539.33 1351.74 1546.53 L1351.74 1568.04 L1345.85 1568.04 L1345.85 1546.72 Q1345.85 1541.59 1344.04 1539.11 Q1342.22 1536.63 1338.5 1536.63 Q1333.95 1536.63 1331.31 1539.65 Q1328.66 1542.68 1328.66 1547.9 L1328.66 1568.04 L1322.78 1568.04 L1322.78 1546.72 Q1322.78 1541.56 1320.96 1539.11 Q1319.15 1536.63 1315.36 1536.63 Q1310.87 1536.63 1308.23 1539.68 Q1305.59 1542.71 1305.59 1547.9 L1305.59 1568.04 L1299.7 1568.04 L1299.7 1532.4 L1305.59 1532.4 L1305.59 1537.93 Q1307.59 1534.66 1310.4 1533.1 Q1313.2 1531.54 1317.05 1531.54 Q1320.93 1531.54 1323.64 1533.51 Q1326.37 1535.48 1327.68 1539.24 Z\" fill=\"#000000\" fill-rule=\"evenodd\" fill-opacity=\"1\" /><path clip-path=\"url(#clip620)\" d=\"M1362.5 1518.58 L1367.59 1518.58 Q1372.37 1526.09 1374.72 1533.29 Q1377.11 1540.48 1377.11 1547.58 Q1377.11 1554.71 1374.72 1561.93 Q1372.37 1569.16 1367.59 1576.64 L1362.5 1576.64 Q1366.73 1569.35 1368.8 1562.16 Q1370.9 1554.93 1370.9 1547.58 Q1370.9 1540.23 1368.8 1533.06 Q1366.73 1525.9 1362.5 1518.58 Z\" fill=\"#000000\" fill-rule=\"evenodd\" fill-opacity=\"1\" /><polyline clip-path=\"url(#clip622)\" style=\"stroke:#000000; stroke-linecap:butt; stroke-linejoin:round; stroke-width:2; stroke-opacity:0.1; fill:none\" points=\"\n  235.283,1384.24 2352.76,1384.24 \n  \"/>\n<polyline clip-path=\"url(#clip622)\" style=\"stroke:#000000; stroke-linecap:butt; stroke-linejoin:round; stroke-width:2; stroke-opacity:0.1; fill:none\" points=\"\n  235.283,1124.63 2352.76,1124.63 \n  \"/>\n<polyline clip-path=\"url(#clip622)\" style=\"stroke:#000000; stroke-linecap:butt; stroke-linejoin:round; stroke-width:2; stroke-opacity:0.1; fill:none\" points=\"\n  235.283,865.017 2352.76,865.017 \n  \"/>\n<polyline clip-path=\"url(#clip622)\" style=\"stroke:#000000; stroke-linecap:butt; stroke-linejoin:round; stroke-width:2; stroke-opacity:0.1; fill:none\" points=\"\n  235.283,605.407 2352.76,605.407 \n  \"/>\n<polyline clip-path=\"url(#clip622)\" style=\"stroke:#000000; stroke-linecap:butt; stroke-linejoin:round; stroke-width:2; stroke-opacity:0.1; fill:none\" points=\"\n  235.283,345.796 2352.76,345.796 \n  \"/>\n<polyline clip-path=\"url(#clip622)\" style=\"stroke:#000000; stroke-linecap:butt; stroke-linejoin:round; stroke-width:2; stroke-opacity:0.1; fill:none\" points=\"\n  235.283,86.1857 2352.76,86.1857 \n  \"/>\n<polyline clip-path=\"url(#clip620)\" style=\"stroke:#000000; stroke-linecap:butt; stroke-linejoin:round; stroke-width:4; stroke-opacity:1; fill:none\" points=\"\n  235.283,1423.18 235.283,47.2441 \n  \"/>\n<polyline clip-path=\"url(#clip620)\" style=\"stroke:#000000; stroke-linecap:butt; stroke-linejoin:round; stroke-width:4; stroke-opacity:1; fill:none\" points=\"\n  235.283,1384.24 254.18,1384.24 \n  \"/>\n<polyline clip-path=\"url(#clip620)\" style=\"stroke:#000000; stroke-linecap:butt; stroke-linejoin:round; stroke-width:4; stroke-opacity:1; fill:none\" points=\"\n  235.283,1124.63 254.18,1124.63 \n  \"/>\n<polyline clip-path=\"url(#clip620)\" style=\"stroke:#000000; stroke-linecap:butt; stroke-linejoin:round; stroke-width:4; stroke-opacity:1; fill:none\" points=\"\n  235.283,865.017 254.18,865.017 \n  \"/>\n<polyline clip-path=\"url(#clip620)\" style=\"stroke:#000000; stroke-linecap:butt; stroke-linejoin:round; stroke-width:4; stroke-opacity:1; fill:none\" points=\"\n  235.283,605.407 254.18,605.407 \n  \"/>\n<polyline clip-path=\"url(#clip620)\" style=\"stroke:#000000; stroke-linecap:butt; stroke-linejoin:round; stroke-width:4; stroke-opacity:1; fill:none\" points=\"\n  235.283,345.796 254.18,345.796 \n  \"/>\n<polyline clip-path=\"url(#clip620)\" style=\"stroke:#000000; stroke-linecap:butt; stroke-linejoin:round; stroke-width:4; stroke-opacity:1; fill:none\" points=\"\n  235.283,86.1857 254.18,86.1857 \n  \"/>\n<path clip-path=\"url(#clip620)\" d=\"M187.338 1370.04 Q183.727 1370.04 181.899 1373.6 Q180.093 1377.14 180.093 1384.27 Q180.093 1391.38 181.899 1394.94 Q183.727 1398.49 187.338 1398.49 Q190.973 1398.49 192.778 1394.94 Q194.607 1391.38 194.607 1384.27 Q194.607 1377.14 192.778 1373.6 Q190.973 1370.04 187.338 1370.04 M187.338 1366.33 Q193.149 1366.33 196.204 1370.94 Q199.283 1375.52 199.283 1384.27 Q199.283 1393 196.204 1397.61 Q193.149 1402.19 187.338 1402.19 Q181.528 1402.19 178.45 1397.61 Q175.394 1393 175.394 1384.27 Q175.394 1375.52 178.45 1370.94 Q181.528 1366.33 187.338 1366.33 Z\" fill=\"#000000\" fill-rule=\"evenodd\" fill-opacity=\"1\" /><path clip-path=\"url(#clip620)\" d=\"M117.825 1137.97 L125.464 1137.97 L125.464 1111.61 L117.154 1113.27 L117.154 1109.01 L125.418 1107.35 L130.093 1107.35 L130.093 1137.97 L137.732 1137.97 L137.732 1141.91 L117.825 1141.91 L117.825 1137.97 Z\" fill=\"#000000\" fill-rule=\"evenodd\" fill-opacity=\"1\" /><path clip-path=\"url(#clip620)\" d=\"M157.177 1110.43 Q153.566 1110.43 151.737 1113.99 Q149.931 1117.53 149.931 1124.66 Q149.931 1131.77 151.737 1135.33 Q153.566 1138.88 157.177 1138.88 Q160.811 1138.88 162.616 1135.33 Q164.445 1131.77 164.445 1124.66 Q164.445 1117.53 162.616 1113.99 Q160.811 1110.43 157.177 1110.43 M157.177 1106.72 Q162.987 1106.72 166.042 1111.33 Q169.121 1115.91 169.121 1124.66 Q169.121 1133.39 166.042 1138 Q162.987 1142.58 157.177 1142.58 Q151.366 1142.58 148.288 1138 Q145.232 1133.39 145.232 1124.66 Q145.232 1115.91 148.288 1111.33 Q151.366 1106.72 157.177 1106.72 Z\" fill=\"#000000\" fill-rule=\"evenodd\" fill-opacity=\"1\" /><path clip-path=\"url(#clip620)\" d=\"M187.338 1110.43 Q183.727 1110.43 181.899 1113.99 Q180.093 1117.53 180.093 1124.66 Q180.093 1131.77 181.899 1135.33 Q183.727 1138.88 187.338 1138.88 Q190.973 1138.88 192.778 1135.33 Q194.607 1131.77 194.607 1124.66 Q194.607 1117.53 192.778 1113.99 Q190.973 1110.43 187.338 1110.43 M187.338 1106.72 Q193.149 1106.72 196.204 1111.33 Q199.283 1115.91 199.283 1124.66 Q199.283 1133.39 196.204 1138 Q193.149 1142.58 187.338 1142.58 Q181.528 1142.58 178.45 1138 Q175.394 1133.39 175.394 1124.66 Q175.394 1115.91 178.45 1111.33 Q181.528 1106.72 187.338 1106.72 Z\" fill=\"#000000\" fill-rule=\"evenodd\" fill-opacity=\"1\" /><path clip-path=\"url(#clip620)\" d=\"M121.043 878.362 L137.362 878.362 L137.362 882.297 L115.418 882.297 L115.418 878.362 Q118.08 875.607 122.663 870.978 Q127.269 866.325 128.45 864.983 Q130.695 862.459 131.575 860.723 Q132.478 858.964 132.478 857.274 Q132.478 854.52 130.533 852.783 Q128.612 851.047 125.51 851.047 Q123.311 851.047 120.857 851.811 Q118.427 852.575 115.649 854.126 L115.649 849.404 Q118.473 848.27 120.927 847.691 Q123.38 847.112 125.418 847.112 Q130.788 847.112 133.982 849.797 Q137.177 852.483 137.177 856.973 Q137.177 859.103 136.367 861.024 Q135.579 862.922 133.473 865.515 Q132.894 866.186 129.792 869.404 Q126.691 872.598 121.043 878.362 Z\" fill=\"#000000\" fill-rule=\"evenodd\" fill-opacity=\"1\" /><path clip-path=\"url(#clip620)\" d=\"M157.177 850.816 Q153.566 850.816 151.737 854.381 Q149.931 857.922 149.931 865.052 Q149.931 872.158 151.737 875.723 Q153.566 879.265 157.177 879.265 Q160.811 879.265 162.616 875.723 Q164.445 872.158 164.445 865.052 Q164.445 857.922 162.616 854.381 Q160.811 850.816 157.177 850.816 M157.177 847.112 Q162.987 847.112 166.042 851.719 Q169.121 856.302 169.121 865.052 Q169.121 873.779 166.042 878.385 Q162.987 882.969 157.177 882.969 Q151.366 882.969 148.288 878.385 Q145.232 873.779 145.232 865.052 Q145.232 856.302 148.288 851.719 Q151.366 847.112 157.177 847.112 Z\" fill=\"#000000\" fill-rule=\"evenodd\" fill-opacity=\"1\" /><path clip-path=\"url(#clip620)\" d=\"M187.338 850.816 Q183.727 850.816 181.899 854.381 Q180.093 857.922 180.093 865.052 Q180.093 872.158 181.899 875.723 Q183.727 879.265 187.338 879.265 Q190.973 879.265 192.778 875.723 Q194.607 872.158 194.607 865.052 Q194.607 857.922 192.778 854.381 Q190.973 850.816 187.338 850.816 M187.338 847.112 Q193.149 847.112 196.204 851.719 Q199.283 856.302 199.283 865.052 Q199.283 873.779 196.204 878.385 Q193.149 882.969 187.338 882.969 Q181.528 882.969 178.45 878.385 Q175.394 873.779 175.394 865.052 Q175.394 856.302 178.45 851.719 Q181.528 847.112 187.338 847.112 Z\" fill=\"#000000\" fill-rule=\"evenodd\" fill-opacity=\"1\" /><path clip-path=\"url(#clip620)\" d=\"M131.181 604.053 Q134.538 604.77 136.413 607.039 Q138.311 609.307 138.311 612.64 Q138.311 617.756 134.792 620.557 Q131.274 623.358 124.793 623.358 Q122.617 623.358 120.302 622.918 Q118.01 622.502 115.556 621.645 L115.556 617.131 Q117.501 618.265 119.816 618.844 Q122.13 619.423 124.654 619.423 Q129.052 619.423 131.343 617.687 Q133.658 615.951 133.658 612.64 Q133.658 609.585 131.505 607.872 Q129.376 606.136 125.556 606.136 L121.529 606.136 L121.529 602.293 L125.742 602.293 Q129.191 602.293 131.019 600.928 Q132.848 599.539 132.848 596.946 Q132.848 594.284 130.95 592.872 Q129.075 591.437 125.556 591.437 Q123.635 591.437 121.436 591.854 Q119.237 592.27 116.598 593.15 L116.598 588.983 Q119.26 588.242 121.575 587.872 Q123.913 587.502 125.973 587.502 Q131.297 587.502 134.399 589.932 Q137.501 592.34 137.501 596.46 Q137.501 599.33 135.857 601.321 Q134.214 603.289 131.181 604.053 Z\" fill=\"#000000\" fill-rule=\"evenodd\" fill-opacity=\"1\" /><path clip-path=\"url(#clip620)\" d=\"M157.177 591.205 Q153.566 591.205 151.737 594.77 Q149.931 598.312 149.931 605.441 Q149.931 612.548 151.737 616.113 Q153.566 619.654 157.177 619.654 Q160.811 619.654 162.616 616.113 Q164.445 612.548 164.445 605.441 Q164.445 598.312 162.616 594.77 Q160.811 591.205 157.177 591.205 M157.177 587.502 Q162.987 587.502 166.042 592.108 Q169.121 596.691 169.121 605.441 Q169.121 614.168 166.042 618.775 Q162.987 623.358 157.177 623.358 Q151.366 623.358 148.288 618.775 Q145.232 614.168 145.232 605.441 Q145.232 596.691 148.288 592.108 Q151.366 587.502 157.177 587.502 Z\" fill=\"#000000\" fill-rule=\"evenodd\" fill-opacity=\"1\" /><path clip-path=\"url(#clip620)\" d=\"M187.338 591.205 Q183.727 591.205 181.899 594.77 Q180.093 598.312 180.093 605.441 Q180.093 612.548 181.899 616.113 Q183.727 619.654 187.338 619.654 Q190.973 619.654 192.778 616.113 Q194.607 612.548 194.607 605.441 Q194.607 598.312 192.778 594.77 Q190.973 591.205 187.338 591.205 M187.338 587.502 Q193.149 587.502 196.204 592.108 Q199.283 596.691 199.283 605.441 Q199.283 614.168 196.204 618.775 Q193.149 623.358 187.338 623.358 Q181.528 623.358 178.45 618.775 Q175.394 614.168 175.394 605.441 Q175.394 596.691 178.45 592.108 Q181.528 587.502 187.338 587.502 Z\" fill=\"#000000\" fill-rule=\"evenodd\" fill-opacity=\"1\" /><path clip-path=\"url(#clip620)\" d=\"M129.862 332.59 L118.056 351.039 L129.862 351.039 L129.862 332.59 M128.635 328.516 L134.515 328.516 L134.515 351.039 L139.445 351.039 L139.445 354.928 L134.515 354.928 L134.515 363.076 L129.862 363.076 L129.862 354.928 L114.26 354.928 L114.26 350.414 L128.635 328.516 Z\" fill=\"#000000\" fill-rule=\"evenodd\" fill-opacity=\"1\" /><path clip-path=\"url(#clip620)\" d=\"M157.177 331.595 Q153.566 331.595 151.737 335.16 Q149.931 338.701 149.931 345.831 Q149.931 352.937 151.737 356.502 Q153.566 360.044 157.177 360.044 Q160.811 360.044 162.616 356.502 Q164.445 352.937 164.445 345.831 Q164.445 338.701 162.616 335.16 Q160.811 331.595 157.177 331.595 M157.177 327.891 Q162.987 327.891 166.042 332.498 Q169.121 337.081 169.121 345.831 Q169.121 354.558 166.042 359.164 Q162.987 363.747 157.177 363.747 Q151.366 363.747 148.288 359.164 Q145.232 354.558 145.232 345.831 Q145.232 337.081 148.288 332.498 Q151.366 327.891 157.177 327.891 Z\" fill=\"#000000\" fill-rule=\"evenodd\" fill-opacity=\"1\" /><path clip-path=\"url(#clip620)\" d=\"M187.338 331.595 Q183.727 331.595 181.899 335.16 Q180.093 338.701 180.093 345.831 Q180.093 352.937 181.899 356.502 Q183.727 360.044 187.338 360.044 Q190.973 360.044 192.778 356.502 Q194.607 352.937 194.607 345.831 Q194.607 338.701 192.778 335.16 Q190.973 331.595 187.338 331.595 M187.338 327.891 Q193.149 327.891 196.204 332.498 Q199.283 337.081 199.283 345.831 Q199.283 354.558 196.204 359.164 Q193.149 363.747 187.338 363.747 Q181.528 363.747 178.45 359.164 Q175.394 354.558 175.394 345.831 Q175.394 337.081 178.45 332.498 Q181.528 327.891 187.338 327.891 Z\" fill=\"#000000\" fill-rule=\"evenodd\" fill-opacity=\"1\" /><path clip-path=\"url(#clip620)\" d=\"M117.061 68.9057 L135.417 68.9057 L135.417 72.8408 L121.343 72.8408 L121.343 81.313 Q122.362 80.9658 123.38 80.8038 Q124.399 80.6186 125.418 80.6186 Q131.205 80.6186 134.584 83.7899 Q137.964 86.9611 137.964 92.3778 Q137.964 97.9564 134.492 101.058 Q131.019 104.137 124.7 104.137 Q122.524 104.137 120.255 103.767 Q118.01 103.396 115.603 102.655 L115.603 97.9564 Q117.686 99.0907 119.908 99.6462 Q122.13 100.202 124.607 100.202 Q128.612 100.202 130.95 98.0953 Q133.288 95.9889 133.288 92.3778 Q133.288 88.7667 130.95 86.6602 Q128.612 84.5537 124.607 84.5537 Q122.732 84.5537 120.857 84.9704 Q119.006 85.3871 117.061 86.2667 L117.061 68.9057 Z\" fill=\"#000000\" fill-rule=\"evenodd\" fill-opacity=\"1\" /><path clip-path=\"url(#clip620)\" d=\"M157.177 71.9844 Q153.566 71.9844 151.737 75.5492 Q149.931 79.0908 149.931 86.2204 Q149.931 93.3268 151.737 96.8916 Q153.566 100.433 157.177 100.433 Q160.811 100.433 162.616 96.8916 Q164.445 93.3268 164.445 86.2204 Q164.445 79.0908 162.616 75.5492 Q160.811 71.9844 157.177 71.9844 M157.177 68.2807 Q162.987 68.2807 166.042 72.8871 Q169.121 77.4704 169.121 86.2204 Q169.121 94.9472 166.042 99.5537 Q162.987 104.137 157.177 104.137 Q151.366 104.137 148.288 99.5537 Q145.232 94.9472 145.232 86.2204 Q145.232 77.4704 148.288 72.8871 Q151.366 68.2807 157.177 68.2807 Z\" fill=\"#000000\" fill-rule=\"evenodd\" fill-opacity=\"1\" /><path clip-path=\"url(#clip620)\" d=\"M187.338 71.9844 Q183.727 71.9844 181.899 75.5492 Q180.093 79.0908 180.093 86.2204 Q180.093 93.3268 181.899 96.8916 Q183.727 100.433 187.338 100.433 Q190.973 100.433 192.778 96.8916 Q194.607 93.3268 194.607 86.2204 Q194.607 79.0908 192.778 75.5492 Q190.973 71.9844 187.338 71.9844 M187.338 68.2807 Q193.149 68.2807 196.204 72.8871 Q199.283 77.4704 199.283 86.2204 Q199.283 94.9472 196.204 99.5537 Q193.149 104.137 187.338 104.137 Q181.528 104.137 178.45 99.5537 Q175.394 94.9472 175.394 86.2204 Q175.394 77.4704 178.45 72.8871 Q181.528 68.2807 187.338 68.2807 Z\" fill=\"#000000\" fill-rule=\"evenodd\" fill-opacity=\"1\" /><path clip-path=\"url(#clip620)\" d=\"M46.0847 904.603 Q46.0847 911.701 47.7079 914.438 Q49.3312 917.176 53.2461 917.176 Q56.3653 917.176 58.2114 915.139 Q60.0256 913.07 60.0256 909.537 Q60.0256 904.667 56.5881 901.739 Q53.1188 898.779 47.3897 898.779 L46.0847 898.779 L46.0847 904.603 M43.6657 892.922 L64.0042 892.922 L64.0042 898.779 L58.5933 898.779 Q61.8398 900.784 63.3994 903.776 Q64.9272 906.768 64.9272 911.096 Q64.9272 916.571 61.8716 919.817 Q58.7843 923.032 53.6281 923.032 Q47.6125 923.032 44.5569 919.022 Q41.5014 914.98 41.5014 906.991 L41.5014 898.779 L40.9285 898.779 Q36.8862 898.779 34.6901 901.452 Q32.4621 904.094 32.4621 908.9 Q32.4621 911.956 33.1941 914.852 Q33.9262 917.749 35.3903 920.422 L29.9795 920.422 Q28.7381 917.208 28.1334 914.184 Q27.4968 911.16 27.4968 908.296 Q27.4968 900.561 31.5072 896.742 Q35.5176 892.922 43.6657 892.922 Z\" fill=\"#000000\" fill-rule=\"evenodd\" fill-opacity=\"1\" /><path clip-path=\"url(#clip620)\" d=\"M14.479 880.859 L14.479 875.003 L64.0042 875.003 L64.0042 880.859 L14.479 880.859 Z\" fill=\"#000000\" fill-rule=\"evenodd\" fill-opacity=\"1\" /><path clip-path=\"url(#clip620)\" d=\"M18.2347 856.956 L28.3562 856.956 L28.3562 844.893 L32.9077 844.893 L32.9077 856.956 L52.2594 856.956 Q56.6199 856.956 57.8613 855.778 Q59.1026 854.569 59.1026 850.909 L59.1026 844.893 L64.0042 844.893 L64.0042 850.909 Q64.0042 857.688 61.4897 860.266 Q58.9434 862.844 52.2594 862.844 L32.9077 862.844 L32.9077 867.141 L28.3562 867.141 L28.3562 862.844 L18.2347 862.844 L18.2347 856.956 Z\" fill=\"#000000\" fill-rule=\"evenodd\" fill-opacity=\"1\" /><path clip-path=\"url(#clip620)\" d=\"M28.3562 837.191 L28.3562 831.334 L64.0042 831.334 L64.0042 837.191 L28.3562 837.191 M14.479 837.191 L14.479 831.334 L21.895 831.334 L21.895 837.191 L14.479 837.191 Z\" fill=\"#000000\" fill-rule=\"evenodd\" fill-opacity=\"1\" /><path clip-path=\"url(#clip620)\" d=\"M18.2347 813.287 L28.3562 813.287 L28.3562 801.224 L32.9077 801.224 L32.9077 813.287 L52.2594 813.287 Q56.6199 813.287 57.8613 812.11 Q59.1026 810.9 59.1026 807.24 L59.1026 801.224 L64.0042 801.224 L64.0042 807.24 Q64.0042 814.019 61.4897 816.598 Q58.9434 819.176 52.2594 819.176 L32.9077 819.176 L32.9077 823.472 L28.3562 823.472 L28.3562 819.176 L18.2347 819.176 L18.2347 813.287 Z\" fill=\"#000000\" fill-rule=\"evenodd\" fill-opacity=\"1\" /><path clip-path=\"url(#clip620)\" d=\"M49.9359 794.127 L28.3562 794.127 L28.3562 788.27 L49.7131 788.27 Q54.7739 788.27 57.3202 786.297 Q59.8346 784.323 59.8346 780.377 Q59.8346 775.634 56.8109 772.897 Q53.7872 770.128 48.5673 770.128 L28.3562 770.128 L28.3562 764.271 L64.0042 764.271 L64.0042 770.128 L58.5296 770.128 Q61.7762 772.26 63.3676 775.093 Q64.9272 777.894 64.9272 781.618 Q64.9272 787.761 61.1078 790.944 Q57.2883 794.127 49.9359 794.127 M27.4968 779.39 L27.4968 779.39 Z\" fill=\"#000000\" fill-rule=\"evenodd\" fill-opacity=\"1\" /><path clip-path=\"url(#clip620)\" d=\"M33.7671 728.751 L14.479 728.751 L14.479 722.894 L64.0042 722.894 L64.0042 728.751 L58.657 728.751 Q61.8398 730.597 63.3994 733.43 Q64.9272 736.23 64.9272 740.177 Q64.9272 746.638 59.771 750.712 Q54.6147 754.755 46.212 754.755 Q37.8093 754.755 32.6531 750.712 Q27.4968 746.638 27.4968 740.177 Q27.4968 736.23 29.0564 733.43 Q30.5842 730.597 33.7671 728.751 M46.212 748.707 Q52.6732 748.707 56.3653 746.065 Q60.0256 743.392 60.0256 738.745 Q60.0256 734.098 56.3653 731.424 Q52.6732 728.751 46.212 728.751 Q39.7508 728.751 36.0905 731.424 Q32.3984 734.098 32.3984 738.745 Q32.3984 743.392 36.0905 746.065 Q39.7508 748.707 46.212 748.707 Z\" fill=\"#000000\" fill-rule=\"evenodd\" fill-opacity=\"1\" /><path clip-path=\"url(#clip620)\" d=\"M44.7161 680.34 L47.5806 680.34 L47.5806 707.267 Q53.6281 706.885 56.8109 703.638 Q59.9619 700.36 59.9619 694.535 Q59.9619 691.161 59.1344 688.01 Q58.3069 684.827 56.6518 681.708 L62.1899 681.708 Q63.5267 684.859 64.227 688.169 Q64.9272 691.48 64.9272 694.885 Q64.9272 703.415 59.9619 708.412 Q54.9967 713.378 46.5303 713.378 Q37.7774 713.378 32.6531 708.667 Q27.4968 703.925 27.4968 695.904 Q27.4968 688.71 32.1438 684.541 Q36.7589 680.34 44.7161 680.34 M42.9973 686.196 Q38.1912 686.26 35.3266 688.901 Q32.4621 691.511 32.4621 695.84 Q32.4621 700.742 35.2312 703.702 Q38.0002 706.63 43.0292 707.076 L42.9973 686.196 Z\" fill=\"#000000\" fill-rule=\"evenodd\" fill-opacity=\"1\" /><path clip-path=\"url(#clip620)\" d=\"M14.5426 635.939 Q21.8632 640.204 29.0246 642.273 Q36.186 644.342 43.5384 644.342 Q50.8908 644.342 58.1159 642.273 Q65.3091 640.172 72.5979 635.939 L72.5979 641.031 Q65.1182 645.806 57.8931 648.193 Q50.668 650.548 43.5384 650.548 Q36.4406 650.548 29.2474 648.193 Q22.0542 645.837 14.5426 641.031 L14.5426 635.939 Z\" fill=\"#000000\" fill-rule=\"evenodd\" fill-opacity=\"1\" /><path clip-path=\"url(#clip620)\" d=\"M35.1993 596.822 Q31.2526 594.625 29.3747 591.57 Q27.4968 588.514 27.4968 584.377 Q27.4968 578.807 31.4117 575.783 Q35.2948 572.759 42.4881 572.759 L64.0042 572.759 L64.0042 578.647 L42.679 578.647 Q37.5546 578.647 35.072 580.462 Q32.5894 582.276 32.5894 586 Q32.5894 590.551 35.6131 593.193 Q38.6368 595.835 43.8567 595.835 L64.0042 595.835 L64.0042 601.723 L42.679 601.723 Q37.5228 601.723 35.072 603.537 Q32.5894 605.352 32.5894 609.139 Q32.5894 613.627 35.6449 616.269 Q38.6686 618.911 43.8567 618.911 L64.0042 618.911 L64.0042 624.799 L28.3562 624.799 L28.3562 618.911 L33.8944 618.911 Q30.616 616.905 29.0564 614.104 Q27.4968 611.303 27.4968 607.452 Q27.4968 603.569 29.4702 600.864 Q31.4436 598.126 35.1993 596.822 Z\" fill=\"#000000\" fill-rule=\"evenodd\" fill-opacity=\"1\" /><path clip-path=\"url(#clip620)\" d=\"M14.5426 562.001 L14.5426 556.909 Q22.0542 552.134 29.2474 549.779 Q36.4406 547.392 43.5384 547.392 Q50.668 547.392 57.8931 549.779 Q65.1182 552.134 72.5979 556.909 L72.5979 562.001 Q65.3091 557.768 58.1159 555.699 Q50.8908 553.598 43.5384 553.598 Q36.186 553.598 29.0246 555.699 Q21.8632 557.768 14.5426 562.001 Z\" fill=\"#000000\" fill-rule=\"evenodd\" fill-opacity=\"1\" /><polyline clip-path=\"url(#clip622)\" style=\"stroke:#009af9; stroke-linecap:butt; stroke-linejoin:round; stroke-width:4; stroke-opacity:1; fill:none\" points=\"\n  295.211,86.1857 303.202,91.3779 311.192,96.5701 319.183,101.762 327.173,106.955 335.164,112.147 343.154,117.339 351.145,122.531 359.135,127.723 367.126,132.916 \n  375.116,138.108 383.106,143.3 391.097,148.492 399.087,153.684 407.078,158.877 415.068,164.069 423.059,169.261 431.049,174.453 439.04,179.645 447.03,184.838 \n  455.021,190.03 463.011,195.222 471.002,200.414 478.992,205.607 486.982,210.799 494.973,215.991 502.963,221.183 510.954,226.375 518.944,231.568 526.935,236.76 \n  534.925,241.952 542.916,247.144 550.906,252.336 558.897,257.529 566.887,262.721 574.878,267.913 582.868,273.105 590.859,278.297 598.849,283.49 606.839,288.682 \n  614.83,293.874 622.82,299.066 630.811,304.259 638.801,309.451 646.792,314.643 654.782,319.835 662.773,325.027 670.763,330.22 678.754,335.412 686.744,340.604 \n  694.735,345.796 702.725,350.988 710.715,356.181 718.706,361.373 726.696,366.565 734.687,371.757 742.677,376.949 750.668,382.142 758.658,387.334 766.649,392.526 \n  774.639,397.718 782.63,402.911 790.62,408.103 798.611,413.295 806.601,418.487 814.592,423.679 822.582,428.872 830.572,434.064 838.563,439.256 846.553,444.448 \n  854.544,449.64 862.534,454.833 870.525,460.025 878.515,465.217 886.506,470.409 894.496,475.601 902.487,480.794 910.477,485.986 918.468,491.178 926.458,496.37 \n  934.448,501.563 942.439,506.755 950.429,511.947 958.42,517.139 966.41,522.331 974.401,527.524 982.391,532.716 990.382,537.908 998.372,543.1 1006.36,548.292 \n  1014.35,553.485 1022.34,558.677 1030.33,563.869 1038.32,569.061 1046.31,574.253 1054.31,579.446 1062.3,584.638 1070.29,589.83 1078.28,595.022 1086.27,600.214 \n  1094.26,605.407 1102.25,610.599 1110.24,615.791 1118.23,620.983 1126.22,626.176 1134.21,631.368 1142.2,636.56 1150.19,641.752 1158.18,646.944 1166.17,652.137 \n  1174.16,657.329 1182.15,662.521 1190.14,667.713 1198.13,672.905 1206.12,678.098 1214.11,683.29 1222.11,688.482 1230.1,693.674 1238.09,698.866 1246.08,704.059 \n  1254.07,709.251 1262.06,714.443 1270.05,719.635 1278.04,724.828 1286.03,730.02 1294.02,735.212 1302.01,740.404 1310,745.596 1317.99,750.789 1325.98,755.981 \n  1333.97,761.173 1341.96,766.365 1349.95,771.557 1357.94,776.75 1365.93,781.942 1373.92,787.134 1381.91,792.326 1389.9,797.518 1397.9,802.711 1405.89,807.903 \n  1413.88,813.095 1421.87,818.287 1429.86,823.48 1437.85,828.672 1445.84,833.864 1453.83,839.056 1461.82,844.248 1469.81,849.441 1477.8,854.633 1485.79,859.825 \n  1493.78,865.017 1501.77,870.209 1509.76,875.402 1517.75,880.594 1525.74,885.786 1533.73,890.978 1541.72,896.17 1549.71,901.363 1557.7,906.555 1565.7,911.747 \n  1573.69,916.939 1581.68,922.132 1589.67,927.324 1597.66,932.516 1605.65,937.708 1613.64,942.9 1621.63,948.093 1629.62,953.285 1637.61,958.477 1645.6,963.669 \n  1653.59,968.861 1661.58,974.054 1669.57,979.246 1677.56,984.438 1685.55,989.63 1693.54,994.822 1701.53,1000.01 1709.52,1005.21 1717.51,1010.4 1725.5,1015.59 \n  1733.49,1020.78 1741.49,1025.98 1749.48,1031.17 1757.47,1036.36 1765.46,1041.55 1773.45,1046.74 1781.44,1051.94 1789.43,1057.13 1797.42,1062.32 1805.41,1067.51 \n  1813.4,1072.71 1821.39,1077.9 1829.38,1083.09 1837.37,1088.28 1845.36,1093.47 1853.35,1098.67 1861.34,1103.86 1869.33,1109.05 1877.32,1114.24 1885.31,1119.44 \n  1893.3,1124.63 1901.29,1129.82 1909.29,1135.01 1917.28,1140.2 1925.27,1145.4 1933.26,1150.59 1941.25,1155.78 1949.24,1160.97 1957.23,1166.17 1965.22,1171.36 \n  1973.21,1176.55 1981.2,1181.74 1989.19,1186.93 1997.18,1192.13 2005.17,1197.32 2013.16,1202.51 2021.15,1207.7 2029.14,1212.9 2037.13,1218.09 2045.12,1223.28 \n  2053.11,1228.47 2061.1,1233.66 2069.09,1238.86 2077.08,1244.05 2085.08,1249.24 2093.07,1254.43 2101.06,1259.63 2109.05,1264.82 2117.04,1270.01 2125.03,1275.2 \n  2133.02,1280.39 2141.01,1285.59 2149,1290.78 2156.99,1295.97 2164.98,1301.16 2172.97,1306.36 2180.96,1311.55 2188.95,1316.74 2196.94,1321.93 2204.93,1327.12 \n  2212.92,1332.32 2220.91,1337.51 2228.9,1342.7 2236.89,1347.89 2244.88,1353.09 2252.88,1358.28 2260.87,1363.47 2268.86,1368.66 2276.85,1373.85 2284.84,1379.05 \n  2292.83,1384.24 \n  \"/>\n</svg>\n",
      "text/html": [
       "<?xml version=\"1.0\" encoding=\"utf-8\"?>\n",
       "<svg xmlns=\"http://www.w3.org/2000/svg\" xmlns:xlink=\"http://www.w3.org/1999/xlink\" width=\"600\" height=\"400\" viewBox=\"0 0 2400 1600\">\n",
       "<defs>\n",
       "  <clipPath id=\"clip670\">\n",
       "    <rect x=\"0\" y=\"0\" width=\"2400\" height=\"1600\"/>\n",
       "  </clipPath>\n",
       "</defs>\n",
       "<path clip-path=\"url(#clip670)\" d=\"\n",
       "M0 1600 L2400 1600 L2400 0 L0 0  Z\n",
       "  \" fill=\"#ffffff\" fill-rule=\"evenodd\" fill-opacity=\"1\"/>\n",
       "<defs>\n",
       "  <clipPath id=\"clip671\">\n",
       "    <rect x=\"480\" y=\"0\" width=\"1681\" height=\"1600\"/>\n",
       "  </clipPath>\n",
       "</defs>\n",
       "<path clip-path=\"url(#clip670)\" d=\"\n",
       "M235.283 1423.18 L2352.76 1423.18 L2352.76 47.2441 L235.283 47.2441  Z\n",
       "  \" fill=\"#ffffff\" fill-rule=\"evenodd\" fill-opacity=\"1\"/>\n",
       "<defs>\n",
       "  <clipPath id=\"clip672\">\n",
       "    <rect x=\"235\" y=\"47\" width=\"2118\" height=\"1377\"/>\n",
       "  </clipPath>\n",
       "</defs>\n",
       "<polyline clip-path=\"url(#clip672)\" style=\"stroke:#000000; stroke-linecap:butt; stroke-linejoin:round; stroke-width:2; stroke-opacity:0.1; fill:none\" points=\"\n",
       "  295.211,1423.18 295.211,47.2441 \n",
       "  \"/>\n",
       "<polyline clip-path=\"url(#clip672)\" style=\"stroke:#000000; stroke-linecap:butt; stroke-linejoin:round; stroke-width:2; stroke-opacity:0.1; fill:none\" points=\"\n",
       "  794.615,1423.18 794.615,47.2441 \n",
       "  \"/>\n",
       "<polyline clip-path=\"url(#clip672)\" style=\"stroke:#000000; stroke-linecap:butt; stroke-linejoin:round; stroke-width:2; stroke-opacity:0.1; fill:none\" points=\"\n",
       "  1294.02,1423.18 1294.02,47.2441 \n",
       "  \"/>\n",
       "<polyline clip-path=\"url(#clip672)\" style=\"stroke:#000000; stroke-linecap:butt; stroke-linejoin:round; stroke-width:2; stroke-opacity:0.1; fill:none\" points=\"\n",
       "  1793.42,1423.18 1793.42,47.2441 \n",
       "  \"/>\n",
       "<polyline clip-path=\"url(#clip672)\" style=\"stroke:#000000; stroke-linecap:butt; stroke-linejoin:round; stroke-width:2; stroke-opacity:0.1; fill:none\" points=\"\n",
       "  2292.83,1423.18 2292.83,47.2441 \n",
       "  \"/>\n",
       "<polyline clip-path=\"url(#clip670)\" style=\"stroke:#000000; stroke-linecap:butt; stroke-linejoin:round; stroke-width:4; stroke-opacity:1; fill:none\" points=\"\n",
       "  235.283,1423.18 2352.76,1423.18 \n",
       "  \"/>\n",
       "<polyline clip-path=\"url(#clip670)\" style=\"stroke:#000000; stroke-linecap:butt; stroke-linejoin:round; stroke-width:4; stroke-opacity:1; fill:none\" points=\"\n",
       "  295.211,1423.18 295.211,1404.28 \n",
       "  \"/>\n",
       "<polyline clip-path=\"url(#clip670)\" style=\"stroke:#000000; stroke-linecap:butt; stroke-linejoin:round; stroke-width:4; stroke-opacity:1; fill:none\" points=\"\n",
       "  794.615,1423.18 794.615,1404.28 \n",
       "  \"/>\n",
       "<polyline clip-path=\"url(#clip670)\" style=\"stroke:#000000; stroke-linecap:butt; stroke-linejoin:round; stroke-width:4; stroke-opacity:1; fill:none\" points=\"\n",
       "  1294.02,1423.18 1294.02,1404.28 \n",
       "  \"/>\n",
       "<polyline clip-path=\"url(#clip670)\" style=\"stroke:#000000; stroke-linecap:butt; stroke-linejoin:round; stroke-width:4; stroke-opacity:1; fill:none\" points=\"\n",
       "  1793.42,1423.18 1793.42,1404.28 \n",
       "  \"/>\n",
       "<polyline clip-path=\"url(#clip670)\" style=\"stroke:#000000; stroke-linecap:butt; stroke-linejoin:round; stroke-width:4; stroke-opacity:1; fill:none\" points=\"\n",
       "  2292.83,1423.18 2292.83,1404.28 \n",
       "  \"/>\n",
       "<path clip-path=\"url(#clip670)\" d=\"M234.193 1468.75 L263.869 1468.75 L263.869 1472.69 L234.193 1472.69 L234.193 1468.75 Z\" fill=\"#000000\" fill-rule=\"evenodd\" fill-opacity=\"1\" /><path clip-path=\"url(#clip670)\" d=\"M277.989 1481.64 L294.309 1481.64 L294.309 1485.58 L272.364 1485.58 L272.364 1481.64 Q275.026 1478.89 279.61 1474.26 Q284.216 1469.61 285.397 1468.27 Q287.642 1465.74 288.522 1464.01 Q289.424 1462.25 289.424 1460.56 Q289.424 1457.8 287.48 1456.07 Q285.559 1454.33 282.457 1454.33 Q280.258 1454.33 277.804 1455.09 Q275.373 1455.86 272.596 1457.41 L272.596 1452.69 Q275.42 1451.55 277.873 1450.97 Q280.327 1450.39 282.364 1450.39 Q287.735 1450.39 290.929 1453.08 Q294.123 1455.77 294.123 1460.26 Q294.123 1462.39 293.313 1464.31 Q292.526 1466.2 290.42 1468.8 Q289.841 1469.47 286.739 1472.69 Q283.637 1475.88 277.989 1481.64 Z\" fill=\"#000000\" fill-rule=\"evenodd\" fill-opacity=\"1\" /><path clip-path=\"url(#clip670)\" d=\"M314.123 1454.1 Q310.512 1454.1 308.683 1457.66 Q306.878 1461.2 306.878 1468.33 Q306.878 1475.44 308.683 1479.01 Q310.512 1482.55 314.123 1482.55 Q317.758 1482.55 319.563 1479.01 Q321.392 1475.44 321.392 1468.33 Q321.392 1461.2 319.563 1457.66 Q317.758 1454.1 314.123 1454.1 M314.123 1450.39 Q319.933 1450.39 322.989 1455 Q326.068 1459.58 326.068 1468.33 Q326.068 1477.06 322.989 1481.67 Q319.933 1486.25 314.123 1486.25 Q308.313 1486.25 305.234 1481.67 Q302.179 1477.06 302.179 1468.33 Q302.179 1459.58 305.234 1455 Q308.313 1450.39 314.123 1450.39 Z\" fill=\"#000000\" fill-rule=\"evenodd\" fill-opacity=\"1\" /><path clip-path=\"url(#clip670)\" d=\"M344.285 1454.1 Q340.674 1454.1 338.845 1457.66 Q337.04 1461.2 337.04 1468.33 Q337.04 1475.44 338.845 1479.01 Q340.674 1482.55 344.285 1482.55 Q347.919 1482.55 349.725 1479.01 Q351.554 1475.44 351.554 1468.33 Q351.554 1461.2 349.725 1457.66 Q347.919 1454.1 344.285 1454.1 M344.285 1450.39 Q350.095 1450.39 353.151 1455 Q356.23 1459.58 356.23 1468.33 Q356.23 1477.06 353.151 1481.67 Q350.095 1486.25 344.285 1486.25 Q338.475 1486.25 335.396 1481.67 Q332.341 1477.06 332.341 1468.33 Q332.341 1459.58 335.396 1455 Q338.475 1450.39 344.285 1450.39 Z\" fill=\"#000000\" fill-rule=\"evenodd\" fill-opacity=\"1\" /><path clip-path=\"url(#clip670)\" d=\"M733.597 1468.75 L763.273 1468.75 L763.273 1472.69 L733.597 1472.69 L733.597 1468.75 Z\" fill=\"#000000\" fill-rule=\"evenodd\" fill-opacity=\"1\" /><path clip-path=\"url(#clip670)\" d=\"M774.176 1481.64 L781.814 1481.64 L781.814 1455.28 L773.504 1456.95 L773.504 1452.69 L781.768 1451.02 L786.444 1451.02 L786.444 1481.64 L794.083 1481.64 L794.083 1485.58 L774.176 1485.58 L774.176 1481.64 Z\" fill=\"#000000\" fill-rule=\"evenodd\" fill-opacity=\"1\" /><path clip-path=\"url(#clip670)\" d=\"M803.574 1451.02 L821.93 1451.02 L821.93 1454.96 L807.856 1454.96 L807.856 1463.43 Q808.875 1463.08 809.893 1462.92 Q810.912 1462.73 811.93 1462.73 Q817.717 1462.73 821.097 1465.9 Q824.476 1469.08 824.476 1474.49 Q824.476 1480.07 821.004 1483.17 Q817.532 1486.25 811.212 1486.25 Q809.037 1486.25 806.768 1485.88 Q804.523 1485.51 802.115 1484.77 L802.115 1480.07 Q804.199 1481.2 806.421 1481.76 Q808.643 1482.32 811.12 1482.32 Q815.125 1482.32 817.462 1480.21 Q819.8 1478.1 819.8 1474.49 Q819.8 1470.88 817.462 1468.77 Q815.125 1466.67 811.12 1466.67 Q809.245 1466.67 807.37 1467.08 Q805.518 1467.5 803.574 1468.38 L803.574 1451.02 Z\" fill=\"#000000\" fill-rule=\"evenodd\" fill-opacity=\"1\" /><path clip-path=\"url(#clip670)\" d=\"M843.689 1454.1 Q840.078 1454.1 838.249 1457.66 Q836.444 1461.2 836.444 1468.33 Q836.444 1475.44 838.249 1479.01 Q840.078 1482.55 843.689 1482.55 Q847.323 1482.55 849.129 1479.01 Q850.958 1475.44 850.958 1468.33 Q850.958 1461.2 849.129 1457.66 Q847.323 1454.1 843.689 1454.1 M843.689 1450.39 Q849.499 1450.39 852.555 1455 Q855.634 1459.58 855.634 1468.33 Q855.634 1477.06 852.555 1481.67 Q849.499 1486.25 843.689 1486.25 Q837.879 1486.25 834.8 1481.67 Q831.745 1477.06 831.745 1468.33 Q831.745 1459.58 834.8 1455 Q837.879 1450.39 843.689 1450.39 Z\" fill=\"#000000\" fill-rule=\"evenodd\" fill-opacity=\"1\" /><path clip-path=\"url(#clip670)\" d=\"M1233 1468.75 L1262.68 1468.75 L1262.68 1472.69 L1233 1472.69 L1233 1468.75 Z\" fill=\"#000000\" fill-rule=\"evenodd\" fill-opacity=\"1\" /><path clip-path=\"url(#clip670)\" d=\"M1273.58 1481.64 L1281.22 1481.64 L1281.22 1455.28 L1272.91 1456.95 L1272.91 1452.69 L1281.17 1451.02 L1285.85 1451.02 L1285.85 1481.64 L1293.49 1481.64 L1293.49 1485.58 L1273.58 1485.58 L1273.58 1481.64 Z\" fill=\"#000000\" fill-rule=\"evenodd\" fill-opacity=\"1\" /><path clip-path=\"url(#clip670)\" d=\"M1312.93 1454.1 Q1309.32 1454.1 1307.49 1457.66 Q1305.69 1461.2 1305.69 1468.33 Q1305.69 1475.44 1307.49 1479.01 Q1309.32 1482.55 1312.93 1482.55 Q1316.57 1482.55 1318.37 1479.01 Q1320.2 1475.44 1320.2 1468.33 Q1320.2 1461.2 1318.37 1457.66 Q1316.57 1454.1 1312.93 1454.1 M1312.93 1450.39 Q1318.74 1450.39 1321.8 1455 Q1324.88 1459.58 1324.88 1468.33 Q1324.88 1477.06 1321.8 1481.67 Q1318.74 1486.25 1312.93 1486.25 Q1307.12 1486.25 1304.04 1481.67 Q1300.99 1477.06 1300.99 1468.33 Q1300.99 1459.58 1304.04 1455 Q1307.12 1450.39 1312.93 1450.39 Z\" fill=\"#000000\" fill-rule=\"evenodd\" fill-opacity=\"1\" /><path clip-path=\"url(#clip670)\" d=\"M1343.09 1454.1 Q1339.48 1454.1 1337.65 1457.66 Q1335.85 1461.2 1335.85 1468.33 Q1335.85 1475.44 1337.65 1479.01 Q1339.48 1482.55 1343.09 1482.55 Q1346.73 1482.55 1348.53 1479.01 Q1350.36 1475.44 1350.36 1468.33 Q1350.36 1461.2 1348.53 1457.66 Q1346.73 1454.1 1343.09 1454.1 M1343.09 1450.39 Q1348.9 1450.39 1351.96 1455 Q1355.04 1459.58 1355.04 1468.33 Q1355.04 1477.06 1351.96 1481.67 Q1348.9 1486.25 1343.09 1486.25 Q1337.28 1486.25 1334.2 1481.67 Q1331.15 1477.06 1331.15 1468.33 Q1331.15 1459.58 1334.2 1455 Q1337.28 1450.39 1343.09 1450.39 Z\" fill=\"#000000\" fill-rule=\"evenodd\" fill-opacity=\"1\" /><path clip-path=\"url(#clip670)\" d=\"M1747.49 1468.75 L1777.16 1468.75 L1777.16 1472.69 L1747.49 1472.69 L1747.49 1468.75 Z\" fill=\"#000000\" fill-rule=\"evenodd\" fill-opacity=\"1\" /><path clip-path=\"url(#clip670)\" d=\"M1787.3 1451.02 L1805.66 1451.02 L1805.66 1454.96 L1791.58 1454.96 L1791.58 1463.43 Q1792.6 1463.08 1793.62 1462.92 Q1794.64 1462.73 1795.66 1462.73 Q1801.44 1462.73 1804.82 1465.9 Q1808.2 1469.08 1808.2 1474.49 Q1808.2 1480.07 1804.73 1483.17 Q1801.26 1486.25 1794.94 1486.25 Q1792.76 1486.25 1790.5 1485.88 Q1788.25 1485.51 1785.84 1484.77 L1785.84 1480.07 Q1787.93 1481.2 1790.15 1481.76 Q1792.37 1482.32 1794.85 1482.32 Q1798.85 1482.32 1801.19 1480.21 Q1803.53 1478.1 1803.53 1474.49 Q1803.53 1470.88 1801.19 1468.77 Q1798.85 1466.67 1794.85 1466.67 Q1792.97 1466.67 1791.1 1467.08 Q1789.25 1467.5 1787.3 1468.38 L1787.3 1451.02 Z\" fill=\"#000000\" fill-rule=\"evenodd\" fill-opacity=\"1\" /><path clip-path=\"url(#clip670)\" d=\"M1827.42 1454.1 Q1823.81 1454.1 1821.98 1457.66 Q1820.17 1461.2 1820.17 1468.33 Q1820.17 1475.44 1821.98 1479.01 Q1823.81 1482.55 1827.42 1482.55 Q1831.05 1482.55 1832.86 1479.01 Q1834.68 1475.44 1834.68 1468.33 Q1834.68 1461.2 1832.86 1457.66 Q1831.05 1454.1 1827.42 1454.1 M1827.42 1450.39 Q1833.23 1450.39 1836.28 1455 Q1839.36 1459.58 1839.36 1468.33 Q1839.36 1477.06 1836.28 1481.67 Q1833.23 1486.25 1827.42 1486.25 Q1821.61 1486.25 1818.53 1481.67 Q1815.47 1477.06 1815.47 1468.33 Q1815.47 1459.58 1818.53 1455 Q1821.61 1450.39 1827.42 1450.39 Z\" fill=\"#000000\" fill-rule=\"evenodd\" fill-opacity=\"1\" /><path clip-path=\"url(#clip670)\" d=\"M2292.83 1454.1 Q2289.22 1454.1 2287.39 1457.66 Q2285.58 1461.2 2285.58 1468.33 Q2285.58 1475.44 2287.39 1479.01 Q2289.22 1482.55 2292.83 1482.55 Q2296.46 1482.55 2298.27 1479.01 Q2300.1 1475.44 2300.1 1468.33 Q2300.1 1461.2 2298.27 1457.66 Q2296.46 1454.1 2292.83 1454.1 M2292.83 1450.39 Q2298.64 1450.39 2301.69 1455 Q2304.77 1459.58 2304.77 1468.33 Q2304.77 1477.06 2301.69 1481.67 Q2298.64 1486.25 2292.83 1486.25 Q2287.02 1486.25 2283.94 1481.67 Q2280.88 1477.06 2280.88 1468.33 Q2280.88 1459.58 2283.94 1455 Q2287.02 1450.39 2292.83 1450.39 Z\" fill=\"#000000\" fill-rule=\"evenodd\" fill-opacity=\"1\" /><path clip-path=\"url(#clip670)\" d=\"M1244.83 1532.4 L1231.94 1549.74 L1245.5 1568.04 L1238.59 1568.04 L1228.21 1554.04 L1217.84 1568.04 L1210.93 1568.04 L1224.78 1549.39 L1212.11 1532.4 L1219.02 1532.4 L1228.47 1545.1 L1237.92 1532.4 L1244.83 1532.4 Z\" fill=\"#000000\" fill-rule=\"evenodd\" fill-opacity=\"1\" /><path clip-path=\"url(#clip670)\" d=\"M1288.56 1518.58 Q1284.3 1525.9 1282.23 1533.06 Q1280.16 1540.23 1280.16 1547.58 Q1280.16 1554.93 1282.23 1562.16 Q1284.33 1569.35 1288.56 1576.64 L1283.47 1576.64 Q1278.69 1569.16 1276.31 1561.93 Q1273.95 1554.71 1273.95 1547.58 Q1273.95 1540.48 1276.31 1533.29 Q1278.66 1526.09 1283.47 1518.58 L1288.56 1518.58 Z\" fill=\"#000000\" fill-rule=\"evenodd\" fill-opacity=\"1\" /><path clip-path=\"url(#clip670)\" d=\"M1327.68 1539.24 Q1329.87 1535.29 1332.93 1533.41 Q1335.99 1531.54 1340.12 1531.54 Q1345.69 1531.54 1348.72 1535.45 Q1351.74 1539.33 1351.74 1546.53 L1351.74 1568.04 L1345.85 1568.04 L1345.85 1546.72 Q1345.85 1541.59 1344.04 1539.11 Q1342.22 1536.63 1338.5 1536.63 Q1333.95 1536.63 1331.31 1539.65 Q1328.66 1542.68 1328.66 1547.9 L1328.66 1568.04 L1322.78 1568.04 L1322.78 1546.72 Q1322.78 1541.56 1320.96 1539.11 Q1319.15 1536.63 1315.36 1536.63 Q1310.87 1536.63 1308.23 1539.68 Q1305.59 1542.71 1305.59 1547.9 L1305.59 1568.04 L1299.7 1568.04 L1299.7 1532.4 L1305.59 1532.4 L1305.59 1537.93 Q1307.59 1534.66 1310.4 1533.1 Q1313.2 1531.54 1317.05 1531.54 Q1320.93 1531.54 1323.64 1533.51 Q1326.37 1535.48 1327.68 1539.24 Z\" fill=\"#000000\" fill-rule=\"evenodd\" fill-opacity=\"1\" /><path clip-path=\"url(#clip670)\" d=\"M1362.5 1518.58 L1367.59 1518.58 Q1372.37 1526.09 1374.72 1533.29 Q1377.11 1540.48 1377.11 1547.58 Q1377.11 1554.71 1374.72 1561.93 Q1372.37 1569.16 1367.59 1576.64 L1362.5 1576.64 Q1366.73 1569.35 1368.8 1562.16 Q1370.9 1554.93 1370.9 1547.58 Q1370.9 1540.23 1368.8 1533.06 Q1366.73 1525.9 1362.5 1518.58 Z\" fill=\"#000000\" fill-rule=\"evenodd\" fill-opacity=\"1\" /><polyline clip-path=\"url(#clip672)\" style=\"stroke:#000000; stroke-linecap:butt; stroke-linejoin:round; stroke-width:2; stroke-opacity:0.1; fill:none\" points=\"\n",
       "  235.283,1384.24 2352.76,1384.24 \n",
       "  \"/>\n",
       "<polyline clip-path=\"url(#clip672)\" style=\"stroke:#000000; stroke-linecap:butt; stroke-linejoin:round; stroke-width:2; stroke-opacity:0.1; fill:none\" points=\"\n",
       "  235.283,1124.63 2352.76,1124.63 \n",
       "  \"/>\n",
       "<polyline clip-path=\"url(#clip672)\" style=\"stroke:#000000; stroke-linecap:butt; stroke-linejoin:round; stroke-width:2; stroke-opacity:0.1; fill:none\" points=\"\n",
       "  235.283,865.017 2352.76,865.017 \n",
       "  \"/>\n",
       "<polyline clip-path=\"url(#clip672)\" style=\"stroke:#000000; stroke-linecap:butt; stroke-linejoin:round; stroke-width:2; stroke-opacity:0.1; fill:none\" points=\"\n",
       "  235.283,605.407 2352.76,605.407 \n",
       "  \"/>\n",
       "<polyline clip-path=\"url(#clip672)\" style=\"stroke:#000000; stroke-linecap:butt; stroke-linejoin:round; stroke-width:2; stroke-opacity:0.1; fill:none\" points=\"\n",
       "  235.283,345.796 2352.76,345.796 \n",
       "  \"/>\n",
       "<polyline clip-path=\"url(#clip672)\" style=\"stroke:#000000; stroke-linecap:butt; stroke-linejoin:round; stroke-width:2; stroke-opacity:0.1; fill:none\" points=\"\n",
       "  235.283,86.1857 2352.76,86.1857 \n",
       "  \"/>\n",
       "<polyline clip-path=\"url(#clip670)\" style=\"stroke:#000000; stroke-linecap:butt; stroke-linejoin:round; stroke-width:4; stroke-opacity:1; fill:none\" points=\"\n",
       "  235.283,1423.18 235.283,47.2441 \n",
       "  \"/>\n",
       "<polyline clip-path=\"url(#clip670)\" style=\"stroke:#000000; stroke-linecap:butt; stroke-linejoin:round; stroke-width:4; stroke-opacity:1; fill:none\" points=\"\n",
       "  235.283,1384.24 254.18,1384.24 \n",
       "  \"/>\n",
       "<polyline clip-path=\"url(#clip670)\" style=\"stroke:#000000; stroke-linecap:butt; stroke-linejoin:round; stroke-width:4; stroke-opacity:1; fill:none\" points=\"\n",
       "  235.283,1124.63 254.18,1124.63 \n",
       "  \"/>\n",
       "<polyline clip-path=\"url(#clip670)\" style=\"stroke:#000000; stroke-linecap:butt; stroke-linejoin:round; stroke-width:4; stroke-opacity:1; fill:none\" points=\"\n",
       "  235.283,865.017 254.18,865.017 \n",
       "  \"/>\n",
       "<polyline clip-path=\"url(#clip670)\" style=\"stroke:#000000; stroke-linecap:butt; stroke-linejoin:round; stroke-width:4; stroke-opacity:1; fill:none\" points=\"\n",
       "  235.283,605.407 254.18,605.407 \n",
       "  \"/>\n",
       "<polyline clip-path=\"url(#clip670)\" style=\"stroke:#000000; stroke-linecap:butt; stroke-linejoin:round; stroke-width:4; stroke-opacity:1; fill:none\" points=\"\n",
       "  235.283,345.796 254.18,345.796 \n",
       "  \"/>\n",
       "<polyline clip-path=\"url(#clip670)\" style=\"stroke:#000000; stroke-linecap:butt; stroke-linejoin:round; stroke-width:4; stroke-opacity:1; fill:none\" points=\"\n",
       "  235.283,86.1857 254.18,86.1857 \n",
       "  \"/>\n",
       "<path clip-path=\"url(#clip670)\" d=\"M187.338 1370.04 Q183.727 1370.04 181.899 1373.6 Q180.093 1377.14 180.093 1384.27 Q180.093 1391.38 181.899 1394.94 Q183.727 1398.49 187.338 1398.49 Q190.973 1398.49 192.778 1394.94 Q194.607 1391.38 194.607 1384.27 Q194.607 1377.14 192.778 1373.6 Q190.973 1370.04 187.338 1370.04 M187.338 1366.33 Q193.149 1366.33 196.204 1370.94 Q199.283 1375.52 199.283 1384.27 Q199.283 1393 196.204 1397.61 Q193.149 1402.19 187.338 1402.19 Q181.528 1402.19 178.45 1397.61 Q175.394 1393 175.394 1384.27 Q175.394 1375.52 178.45 1370.94 Q181.528 1366.33 187.338 1366.33 Z\" fill=\"#000000\" fill-rule=\"evenodd\" fill-opacity=\"1\" /><path clip-path=\"url(#clip670)\" d=\"M117.825 1137.97 L125.464 1137.97 L125.464 1111.61 L117.154 1113.27 L117.154 1109.01 L125.418 1107.35 L130.093 1107.35 L130.093 1137.97 L137.732 1137.97 L137.732 1141.91 L117.825 1141.91 L117.825 1137.97 Z\" fill=\"#000000\" fill-rule=\"evenodd\" fill-opacity=\"1\" /><path clip-path=\"url(#clip670)\" d=\"M157.177 1110.43 Q153.566 1110.43 151.737 1113.99 Q149.931 1117.53 149.931 1124.66 Q149.931 1131.77 151.737 1135.33 Q153.566 1138.88 157.177 1138.88 Q160.811 1138.88 162.616 1135.33 Q164.445 1131.77 164.445 1124.66 Q164.445 1117.53 162.616 1113.99 Q160.811 1110.43 157.177 1110.43 M157.177 1106.72 Q162.987 1106.72 166.042 1111.33 Q169.121 1115.91 169.121 1124.66 Q169.121 1133.39 166.042 1138 Q162.987 1142.58 157.177 1142.58 Q151.366 1142.58 148.288 1138 Q145.232 1133.39 145.232 1124.66 Q145.232 1115.91 148.288 1111.33 Q151.366 1106.72 157.177 1106.72 Z\" fill=\"#000000\" fill-rule=\"evenodd\" fill-opacity=\"1\" /><path clip-path=\"url(#clip670)\" d=\"M187.338 1110.43 Q183.727 1110.43 181.899 1113.99 Q180.093 1117.53 180.093 1124.66 Q180.093 1131.77 181.899 1135.33 Q183.727 1138.88 187.338 1138.88 Q190.973 1138.88 192.778 1135.33 Q194.607 1131.77 194.607 1124.66 Q194.607 1117.53 192.778 1113.99 Q190.973 1110.43 187.338 1110.43 M187.338 1106.72 Q193.149 1106.72 196.204 1111.33 Q199.283 1115.91 199.283 1124.66 Q199.283 1133.39 196.204 1138 Q193.149 1142.58 187.338 1142.58 Q181.528 1142.58 178.45 1138 Q175.394 1133.39 175.394 1124.66 Q175.394 1115.91 178.45 1111.33 Q181.528 1106.72 187.338 1106.72 Z\" fill=\"#000000\" fill-rule=\"evenodd\" fill-opacity=\"1\" /><path clip-path=\"url(#clip670)\" d=\"M121.043 878.362 L137.362 878.362 L137.362 882.297 L115.418 882.297 L115.418 878.362 Q118.08 875.607 122.663 870.978 Q127.269 866.325 128.45 864.983 Q130.695 862.459 131.575 860.723 Q132.478 858.964 132.478 857.274 Q132.478 854.52 130.533 852.783 Q128.612 851.047 125.51 851.047 Q123.311 851.047 120.857 851.811 Q118.427 852.575 115.649 854.126 L115.649 849.404 Q118.473 848.27 120.927 847.691 Q123.38 847.112 125.418 847.112 Q130.788 847.112 133.982 849.797 Q137.177 852.483 137.177 856.973 Q137.177 859.103 136.367 861.024 Q135.579 862.922 133.473 865.515 Q132.894 866.186 129.792 869.404 Q126.691 872.598 121.043 878.362 Z\" fill=\"#000000\" fill-rule=\"evenodd\" fill-opacity=\"1\" /><path clip-path=\"url(#clip670)\" d=\"M157.177 850.816 Q153.566 850.816 151.737 854.381 Q149.931 857.922 149.931 865.052 Q149.931 872.158 151.737 875.723 Q153.566 879.265 157.177 879.265 Q160.811 879.265 162.616 875.723 Q164.445 872.158 164.445 865.052 Q164.445 857.922 162.616 854.381 Q160.811 850.816 157.177 850.816 M157.177 847.112 Q162.987 847.112 166.042 851.719 Q169.121 856.302 169.121 865.052 Q169.121 873.779 166.042 878.385 Q162.987 882.969 157.177 882.969 Q151.366 882.969 148.288 878.385 Q145.232 873.779 145.232 865.052 Q145.232 856.302 148.288 851.719 Q151.366 847.112 157.177 847.112 Z\" fill=\"#000000\" fill-rule=\"evenodd\" fill-opacity=\"1\" /><path clip-path=\"url(#clip670)\" d=\"M187.338 850.816 Q183.727 850.816 181.899 854.381 Q180.093 857.922 180.093 865.052 Q180.093 872.158 181.899 875.723 Q183.727 879.265 187.338 879.265 Q190.973 879.265 192.778 875.723 Q194.607 872.158 194.607 865.052 Q194.607 857.922 192.778 854.381 Q190.973 850.816 187.338 850.816 M187.338 847.112 Q193.149 847.112 196.204 851.719 Q199.283 856.302 199.283 865.052 Q199.283 873.779 196.204 878.385 Q193.149 882.969 187.338 882.969 Q181.528 882.969 178.45 878.385 Q175.394 873.779 175.394 865.052 Q175.394 856.302 178.45 851.719 Q181.528 847.112 187.338 847.112 Z\" fill=\"#000000\" fill-rule=\"evenodd\" fill-opacity=\"1\" /><path clip-path=\"url(#clip670)\" d=\"M131.181 604.053 Q134.538 604.77 136.413 607.039 Q138.311 609.307 138.311 612.64 Q138.311 617.756 134.792 620.557 Q131.274 623.358 124.793 623.358 Q122.617 623.358 120.302 622.918 Q118.01 622.502 115.556 621.645 L115.556 617.131 Q117.501 618.265 119.816 618.844 Q122.13 619.423 124.654 619.423 Q129.052 619.423 131.343 617.687 Q133.658 615.951 133.658 612.64 Q133.658 609.585 131.505 607.872 Q129.376 606.136 125.556 606.136 L121.529 606.136 L121.529 602.293 L125.742 602.293 Q129.191 602.293 131.019 600.928 Q132.848 599.539 132.848 596.946 Q132.848 594.284 130.95 592.872 Q129.075 591.437 125.556 591.437 Q123.635 591.437 121.436 591.854 Q119.237 592.27 116.598 593.15 L116.598 588.983 Q119.26 588.242 121.575 587.872 Q123.913 587.502 125.973 587.502 Q131.297 587.502 134.399 589.932 Q137.501 592.34 137.501 596.46 Q137.501 599.33 135.857 601.321 Q134.214 603.289 131.181 604.053 Z\" fill=\"#000000\" fill-rule=\"evenodd\" fill-opacity=\"1\" /><path clip-path=\"url(#clip670)\" d=\"M157.177 591.205 Q153.566 591.205 151.737 594.77 Q149.931 598.312 149.931 605.441 Q149.931 612.548 151.737 616.113 Q153.566 619.654 157.177 619.654 Q160.811 619.654 162.616 616.113 Q164.445 612.548 164.445 605.441 Q164.445 598.312 162.616 594.77 Q160.811 591.205 157.177 591.205 M157.177 587.502 Q162.987 587.502 166.042 592.108 Q169.121 596.691 169.121 605.441 Q169.121 614.168 166.042 618.775 Q162.987 623.358 157.177 623.358 Q151.366 623.358 148.288 618.775 Q145.232 614.168 145.232 605.441 Q145.232 596.691 148.288 592.108 Q151.366 587.502 157.177 587.502 Z\" fill=\"#000000\" fill-rule=\"evenodd\" fill-opacity=\"1\" /><path clip-path=\"url(#clip670)\" d=\"M187.338 591.205 Q183.727 591.205 181.899 594.77 Q180.093 598.312 180.093 605.441 Q180.093 612.548 181.899 616.113 Q183.727 619.654 187.338 619.654 Q190.973 619.654 192.778 616.113 Q194.607 612.548 194.607 605.441 Q194.607 598.312 192.778 594.77 Q190.973 591.205 187.338 591.205 M187.338 587.502 Q193.149 587.502 196.204 592.108 Q199.283 596.691 199.283 605.441 Q199.283 614.168 196.204 618.775 Q193.149 623.358 187.338 623.358 Q181.528 623.358 178.45 618.775 Q175.394 614.168 175.394 605.441 Q175.394 596.691 178.45 592.108 Q181.528 587.502 187.338 587.502 Z\" fill=\"#000000\" fill-rule=\"evenodd\" fill-opacity=\"1\" /><path clip-path=\"url(#clip670)\" d=\"M129.862 332.59 L118.056 351.039 L129.862 351.039 L129.862 332.59 M128.635 328.516 L134.515 328.516 L134.515 351.039 L139.445 351.039 L139.445 354.928 L134.515 354.928 L134.515 363.076 L129.862 363.076 L129.862 354.928 L114.26 354.928 L114.26 350.414 L128.635 328.516 Z\" fill=\"#000000\" fill-rule=\"evenodd\" fill-opacity=\"1\" /><path clip-path=\"url(#clip670)\" d=\"M157.177 331.595 Q153.566 331.595 151.737 335.16 Q149.931 338.701 149.931 345.831 Q149.931 352.937 151.737 356.502 Q153.566 360.044 157.177 360.044 Q160.811 360.044 162.616 356.502 Q164.445 352.937 164.445 345.831 Q164.445 338.701 162.616 335.16 Q160.811 331.595 157.177 331.595 M157.177 327.891 Q162.987 327.891 166.042 332.498 Q169.121 337.081 169.121 345.831 Q169.121 354.558 166.042 359.164 Q162.987 363.747 157.177 363.747 Q151.366 363.747 148.288 359.164 Q145.232 354.558 145.232 345.831 Q145.232 337.081 148.288 332.498 Q151.366 327.891 157.177 327.891 Z\" fill=\"#000000\" fill-rule=\"evenodd\" fill-opacity=\"1\" /><path clip-path=\"url(#clip670)\" d=\"M187.338 331.595 Q183.727 331.595 181.899 335.16 Q180.093 338.701 180.093 345.831 Q180.093 352.937 181.899 356.502 Q183.727 360.044 187.338 360.044 Q190.973 360.044 192.778 356.502 Q194.607 352.937 194.607 345.831 Q194.607 338.701 192.778 335.16 Q190.973 331.595 187.338 331.595 M187.338 327.891 Q193.149 327.891 196.204 332.498 Q199.283 337.081 199.283 345.831 Q199.283 354.558 196.204 359.164 Q193.149 363.747 187.338 363.747 Q181.528 363.747 178.45 359.164 Q175.394 354.558 175.394 345.831 Q175.394 337.081 178.45 332.498 Q181.528 327.891 187.338 327.891 Z\" fill=\"#000000\" fill-rule=\"evenodd\" fill-opacity=\"1\" /><path clip-path=\"url(#clip670)\" d=\"M117.061 68.9057 L135.417 68.9057 L135.417 72.8408 L121.343 72.8408 L121.343 81.313 Q122.362 80.9658 123.38 80.8038 Q124.399 80.6186 125.418 80.6186 Q131.205 80.6186 134.584 83.7899 Q137.964 86.9611 137.964 92.3778 Q137.964 97.9564 134.492 101.058 Q131.019 104.137 124.7 104.137 Q122.524 104.137 120.255 103.767 Q118.01 103.396 115.603 102.655 L115.603 97.9564 Q117.686 99.0907 119.908 99.6462 Q122.13 100.202 124.607 100.202 Q128.612 100.202 130.95 98.0953 Q133.288 95.9889 133.288 92.3778 Q133.288 88.7667 130.95 86.6602 Q128.612 84.5537 124.607 84.5537 Q122.732 84.5537 120.857 84.9704 Q119.006 85.3871 117.061 86.2667 L117.061 68.9057 Z\" fill=\"#000000\" fill-rule=\"evenodd\" fill-opacity=\"1\" /><path clip-path=\"url(#clip670)\" d=\"M157.177 71.9844 Q153.566 71.9844 151.737 75.5492 Q149.931 79.0908 149.931 86.2204 Q149.931 93.3268 151.737 96.8916 Q153.566 100.433 157.177 100.433 Q160.811 100.433 162.616 96.8916 Q164.445 93.3268 164.445 86.2204 Q164.445 79.0908 162.616 75.5492 Q160.811 71.9844 157.177 71.9844 M157.177 68.2807 Q162.987 68.2807 166.042 72.8871 Q169.121 77.4704 169.121 86.2204 Q169.121 94.9472 166.042 99.5537 Q162.987 104.137 157.177 104.137 Q151.366 104.137 148.288 99.5537 Q145.232 94.9472 145.232 86.2204 Q145.232 77.4704 148.288 72.8871 Q151.366 68.2807 157.177 68.2807 Z\" fill=\"#000000\" fill-rule=\"evenodd\" fill-opacity=\"1\" /><path clip-path=\"url(#clip670)\" d=\"M187.338 71.9844 Q183.727 71.9844 181.899 75.5492 Q180.093 79.0908 180.093 86.2204 Q180.093 93.3268 181.899 96.8916 Q183.727 100.433 187.338 100.433 Q190.973 100.433 192.778 96.8916 Q194.607 93.3268 194.607 86.2204 Q194.607 79.0908 192.778 75.5492 Q190.973 71.9844 187.338 71.9844 M187.338 68.2807 Q193.149 68.2807 196.204 72.8871 Q199.283 77.4704 199.283 86.2204 Q199.283 94.9472 196.204 99.5537 Q193.149 104.137 187.338 104.137 Q181.528 104.137 178.45 99.5537 Q175.394 94.9472 175.394 86.2204 Q175.394 77.4704 178.45 72.8871 Q181.528 68.2807 187.338 68.2807 Z\" fill=\"#000000\" fill-rule=\"evenodd\" fill-opacity=\"1\" /><path clip-path=\"url(#clip670)\" d=\"M46.0847 904.603 Q46.0847 911.701 47.7079 914.438 Q49.3312 917.176 53.2461 917.176 Q56.3653 917.176 58.2114 915.139 Q60.0256 913.07 60.0256 909.537 Q60.0256 904.667 56.5881 901.739 Q53.1188 898.779 47.3897 898.779 L46.0847 898.779 L46.0847 904.603 M43.6657 892.922 L64.0042 892.922 L64.0042 898.779 L58.5933 898.779 Q61.8398 900.784 63.3994 903.776 Q64.9272 906.768 64.9272 911.096 Q64.9272 916.571 61.8716 919.817 Q58.7843 923.032 53.6281 923.032 Q47.6125 923.032 44.5569 919.022 Q41.5014 914.98 41.5014 906.991 L41.5014 898.779 L40.9285 898.779 Q36.8862 898.779 34.6901 901.452 Q32.4621 904.094 32.4621 908.9 Q32.4621 911.956 33.1941 914.852 Q33.9262 917.749 35.3903 920.422 L29.9795 920.422 Q28.7381 917.208 28.1334 914.184 Q27.4968 911.16 27.4968 908.296 Q27.4968 900.561 31.5072 896.742 Q35.5176 892.922 43.6657 892.922 Z\" fill=\"#000000\" fill-rule=\"evenodd\" fill-opacity=\"1\" /><path clip-path=\"url(#clip670)\" d=\"M14.479 880.859 L14.479 875.003 L64.0042 875.003 L64.0042 880.859 L14.479 880.859 Z\" fill=\"#000000\" fill-rule=\"evenodd\" fill-opacity=\"1\" /><path clip-path=\"url(#clip670)\" d=\"M18.2347 856.956 L28.3562 856.956 L28.3562 844.893 L32.9077 844.893 L32.9077 856.956 L52.2594 856.956 Q56.6199 856.956 57.8613 855.778 Q59.1026 854.569 59.1026 850.909 L59.1026 844.893 L64.0042 844.893 L64.0042 850.909 Q64.0042 857.688 61.4897 860.266 Q58.9434 862.844 52.2594 862.844 L32.9077 862.844 L32.9077 867.141 L28.3562 867.141 L28.3562 862.844 L18.2347 862.844 L18.2347 856.956 Z\" fill=\"#000000\" fill-rule=\"evenodd\" fill-opacity=\"1\" /><path clip-path=\"url(#clip670)\" d=\"M28.3562 837.191 L28.3562 831.334 L64.0042 831.334 L64.0042 837.191 L28.3562 837.191 M14.479 837.191 L14.479 831.334 L21.895 831.334 L21.895 837.191 L14.479 837.191 Z\" fill=\"#000000\" fill-rule=\"evenodd\" fill-opacity=\"1\" /><path clip-path=\"url(#clip670)\" d=\"M18.2347 813.287 L28.3562 813.287 L28.3562 801.224 L32.9077 801.224 L32.9077 813.287 L52.2594 813.287 Q56.6199 813.287 57.8613 812.11 Q59.1026 810.9 59.1026 807.24 L59.1026 801.224 L64.0042 801.224 L64.0042 807.24 Q64.0042 814.019 61.4897 816.598 Q58.9434 819.176 52.2594 819.176 L32.9077 819.176 L32.9077 823.472 L28.3562 823.472 L28.3562 819.176 L18.2347 819.176 L18.2347 813.287 Z\" fill=\"#000000\" fill-rule=\"evenodd\" fill-opacity=\"1\" /><path clip-path=\"url(#clip670)\" d=\"M49.9359 794.127 L28.3562 794.127 L28.3562 788.27 L49.7131 788.27 Q54.7739 788.27 57.3202 786.297 Q59.8346 784.323 59.8346 780.377 Q59.8346 775.634 56.8109 772.897 Q53.7872 770.128 48.5673 770.128 L28.3562 770.128 L28.3562 764.271 L64.0042 764.271 L64.0042 770.128 L58.5296 770.128 Q61.7762 772.26 63.3676 775.093 Q64.9272 777.894 64.9272 781.618 Q64.9272 787.761 61.1078 790.944 Q57.2883 794.127 49.9359 794.127 M27.4968 779.39 L27.4968 779.39 Z\" fill=\"#000000\" fill-rule=\"evenodd\" fill-opacity=\"1\" /><path clip-path=\"url(#clip670)\" d=\"M33.7671 728.751 L14.479 728.751 L14.479 722.894 L64.0042 722.894 L64.0042 728.751 L58.657 728.751 Q61.8398 730.597 63.3994 733.43 Q64.9272 736.23 64.9272 740.177 Q64.9272 746.638 59.771 750.712 Q54.6147 754.755 46.212 754.755 Q37.8093 754.755 32.6531 750.712 Q27.4968 746.638 27.4968 740.177 Q27.4968 736.23 29.0564 733.43 Q30.5842 730.597 33.7671 728.751 M46.212 748.707 Q52.6732 748.707 56.3653 746.065 Q60.0256 743.392 60.0256 738.745 Q60.0256 734.098 56.3653 731.424 Q52.6732 728.751 46.212 728.751 Q39.7508 728.751 36.0905 731.424 Q32.3984 734.098 32.3984 738.745 Q32.3984 743.392 36.0905 746.065 Q39.7508 748.707 46.212 748.707 Z\" fill=\"#000000\" fill-rule=\"evenodd\" fill-opacity=\"1\" /><path clip-path=\"url(#clip670)\" d=\"M44.7161 680.34 L47.5806 680.34 L47.5806 707.267 Q53.6281 706.885 56.8109 703.638 Q59.9619 700.36 59.9619 694.535 Q59.9619 691.161 59.1344 688.01 Q58.3069 684.827 56.6518 681.708 L62.1899 681.708 Q63.5267 684.859 64.227 688.169 Q64.9272 691.48 64.9272 694.885 Q64.9272 703.415 59.9619 708.412 Q54.9967 713.378 46.5303 713.378 Q37.7774 713.378 32.6531 708.667 Q27.4968 703.925 27.4968 695.904 Q27.4968 688.71 32.1438 684.541 Q36.7589 680.34 44.7161 680.34 M42.9973 686.196 Q38.1912 686.26 35.3266 688.901 Q32.4621 691.511 32.4621 695.84 Q32.4621 700.742 35.2312 703.702 Q38.0002 706.63 43.0292 707.076 L42.9973 686.196 Z\" fill=\"#000000\" fill-rule=\"evenodd\" fill-opacity=\"1\" /><path clip-path=\"url(#clip670)\" d=\"M14.5426 635.939 Q21.8632 640.204 29.0246 642.273 Q36.186 644.342 43.5384 644.342 Q50.8908 644.342 58.1159 642.273 Q65.3091 640.172 72.5979 635.939 L72.5979 641.031 Q65.1182 645.806 57.8931 648.193 Q50.668 650.548 43.5384 650.548 Q36.4406 650.548 29.2474 648.193 Q22.0542 645.837 14.5426 641.031 L14.5426 635.939 Z\" fill=\"#000000\" fill-rule=\"evenodd\" fill-opacity=\"1\" /><path clip-path=\"url(#clip670)\" d=\"M35.1993 596.822 Q31.2526 594.625 29.3747 591.57 Q27.4968 588.514 27.4968 584.377 Q27.4968 578.807 31.4117 575.783 Q35.2948 572.759 42.4881 572.759 L64.0042 572.759 L64.0042 578.647 L42.679 578.647 Q37.5546 578.647 35.072 580.462 Q32.5894 582.276 32.5894 586 Q32.5894 590.551 35.6131 593.193 Q38.6368 595.835 43.8567 595.835 L64.0042 595.835 L64.0042 601.723 L42.679 601.723 Q37.5228 601.723 35.072 603.537 Q32.5894 605.352 32.5894 609.139 Q32.5894 613.627 35.6449 616.269 Q38.6686 618.911 43.8567 618.911 L64.0042 618.911 L64.0042 624.799 L28.3562 624.799 L28.3562 618.911 L33.8944 618.911 Q30.616 616.905 29.0564 614.104 Q27.4968 611.303 27.4968 607.452 Q27.4968 603.569 29.4702 600.864 Q31.4436 598.126 35.1993 596.822 Z\" fill=\"#000000\" fill-rule=\"evenodd\" fill-opacity=\"1\" /><path clip-path=\"url(#clip670)\" d=\"M14.5426 562.001 L14.5426 556.909 Q22.0542 552.134 29.2474 549.779 Q36.4406 547.392 43.5384 547.392 Q50.668 547.392 57.8931 549.779 Q65.1182 552.134 72.5979 556.909 L72.5979 562.001 Q65.3091 557.768 58.1159 555.699 Q50.8908 553.598 43.5384 553.598 Q36.186 553.598 29.0246 555.699 Q21.8632 557.768 14.5426 562.001 Z\" fill=\"#000000\" fill-rule=\"evenodd\" fill-opacity=\"1\" /><polyline clip-path=\"url(#clip672)\" style=\"stroke:#009af9; stroke-linecap:butt; stroke-linejoin:round; stroke-width:4; stroke-opacity:1; fill:none\" points=\"\n",
       "  295.211,86.1857 303.202,91.3779 311.192,96.5701 319.183,101.762 327.173,106.955 335.164,112.147 343.154,117.339 351.145,122.531 359.135,127.723 367.126,132.916 \n",
       "  375.116,138.108 383.106,143.3 391.097,148.492 399.087,153.684 407.078,158.877 415.068,164.069 423.059,169.261 431.049,174.453 439.04,179.645 447.03,184.838 \n",
       "  455.021,190.03 463.011,195.222 471.002,200.414 478.992,205.607 486.982,210.799 494.973,215.991 502.963,221.183 510.954,226.375 518.944,231.568 526.935,236.76 \n",
       "  534.925,241.952 542.916,247.144 550.906,252.336 558.897,257.529 566.887,262.721 574.878,267.913 582.868,273.105 590.859,278.297 598.849,283.49 606.839,288.682 \n",
       "  614.83,293.874 622.82,299.066 630.811,304.259 638.801,309.451 646.792,314.643 654.782,319.835 662.773,325.027 670.763,330.22 678.754,335.412 686.744,340.604 \n",
       "  694.735,345.796 702.725,350.988 710.715,356.181 718.706,361.373 726.696,366.565 734.687,371.757 742.677,376.949 750.668,382.142 758.658,387.334 766.649,392.526 \n",
       "  774.639,397.718 782.63,402.911 790.62,408.103 798.611,413.295 806.601,418.487 814.592,423.679 822.582,428.872 830.572,434.064 838.563,439.256 846.553,444.448 \n",
       "  854.544,449.64 862.534,454.833 870.525,460.025 878.515,465.217 886.506,470.409 894.496,475.601 902.487,480.794 910.477,485.986 918.468,491.178 926.458,496.37 \n",
       "  934.448,501.563 942.439,506.755 950.429,511.947 958.42,517.139 966.41,522.331 974.401,527.524 982.391,532.716 990.382,537.908 998.372,543.1 1006.36,548.292 \n",
       "  1014.35,553.485 1022.34,558.677 1030.33,563.869 1038.32,569.061 1046.31,574.253 1054.31,579.446 1062.3,584.638 1070.29,589.83 1078.28,595.022 1086.27,600.214 \n",
       "  1094.26,605.407 1102.25,610.599 1110.24,615.791 1118.23,620.983 1126.22,626.176 1134.21,631.368 1142.2,636.56 1150.19,641.752 1158.18,646.944 1166.17,652.137 \n",
       "  1174.16,657.329 1182.15,662.521 1190.14,667.713 1198.13,672.905 1206.12,678.098 1214.11,683.29 1222.11,688.482 1230.1,693.674 1238.09,698.866 1246.08,704.059 \n",
       "  1254.07,709.251 1262.06,714.443 1270.05,719.635 1278.04,724.828 1286.03,730.02 1294.02,735.212 1302.01,740.404 1310,745.596 1317.99,750.789 1325.98,755.981 \n",
       "  1333.97,761.173 1341.96,766.365 1349.95,771.557 1357.94,776.75 1365.93,781.942 1373.92,787.134 1381.91,792.326 1389.9,797.518 1397.9,802.711 1405.89,807.903 \n",
       "  1413.88,813.095 1421.87,818.287 1429.86,823.48 1437.85,828.672 1445.84,833.864 1453.83,839.056 1461.82,844.248 1469.81,849.441 1477.8,854.633 1485.79,859.825 \n",
       "  1493.78,865.017 1501.77,870.209 1509.76,875.402 1517.75,880.594 1525.74,885.786 1533.73,890.978 1541.72,896.17 1549.71,901.363 1557.7,906.555 1565.7,911.747 \n",
       "  1573.69,916.939 1581.68,922.132 1589.67,927.324 1597.66,932.516 1605.65,937.708 1613.64,942.9 1621.63,948.093 1629.62,953.285 1637.61,958.477 1645.6,963.669 \n",
       "  1653.59,968.861 1661.58,974.054 1669.57,979.246 1677.56,984.438 1685.55,989.63 1693.54,994.822 1701.53,1000.01 1709.52,1005.21 1717.51,1010.4 1725.5,1015.59 \n",
       "  1733.49,1020.78 1741.49,1025.98 1749.48,1031.17 1757.47,1036.36 1765.46,1041.55 1773.45,1046.74 1781.44,1051.94 1789.43,1057.13 1797.42,1062.32 1805.41,1067.51 \n",
       "  1813.4,1072.71 1821.39,1077.9 1829.38,1083.09 1837.37,1088.28 1845.36,1093.47 1853.35,1098.67 1861.34,1103.86 1869.33,1109.05 1877.32,1114.24 1885.31,1119.44 \n",
       "  1893.3,1124.63 1901.29,1129.82 1909.29,1135.01 1917.28,1140.2 1925.27,1145.4 1933.26,1150.59 1941.25,1155.78 1949.24,1160.97 1957.23,1166.17 1965.22,1171.36 \n",
       "  1973.21,1176.55 1981.2,1181.74 1989.19,1186.93 1997.18,1192.13 2005.17,1197.32 2013.16,1202.51 2021.15,1207.7 2029.14,1212.9 2037.13,1218.09 2045.12,1223.28 \n",
       "  2053.11,1228.47 2061.1,1233.66 2069.09,1238.86 2077.08,1244.05 2085.08,1249.24 2093.07,1254.43 2101.06,1259.63 2109.05,1264.82 2117.04,1270.01 2125.03,1275.2 \n",
       "  2133.02,1280.39 2141.01,1285.59 2149,1290.78 2156.99,1295.97 2164.98,1301.16 2172.97,1306.36 2180.96,1311.55 2188.95,1316.74 2196.94,1321.93 2204.93,1327.12 \n",
       "  2212.92,1332.32 2220.91,1337.51 2228.9,1342.7 2236.89,1347.89 2244.88,1353.09 2252.88,1358.28 2260.87,1363.47 2268.86,1368.66 2276.85,1373.85 2284.84,1379.05 \n",
       "  2292.83,1384.24 \n",
       "  \"/>\n",
       "</svg>\n"
      ],
      "image/png": "[encoded data removed]"
     },
     "metadata": {},
     "output_type": "display_data"
    }
   ],
   "metadata": {}
  },
  {
   "cell_type": "code",
   "execution_count": 158,
   "source": [
    "@testset \"Q3a\" begin                                      # POINTS = 3\n",
    "    xdiff = diff(Xref)[1:end-1]\n",
    "    @test mean(xdiff)[1] ≈ 200 / (N-1) rtol = 1e-6        # POINTS = 0.5\n",
    "    @test mean(xdiff)[2] ≈ -500 / (N-1) rtol = 1e-6       # POINTS = 0.5\n",
    "    # @test mean(xdiff)[3:end] ≈ zeros(6) rtol = 1e-6       # POINTS = 0.5\n",
    "    \n",
    "    Xref2 = nominal_trajectory([100,200,0, 0,0,0, 12.2, 0.], 101, 0.15)\n",
    "    xmean = mean(Xref2[1:end-1])\n",
    "    # @test xmean[4] ≈ -100 / 100 / .15 rtol = 1e-6         # POINTS = 0.5\n",
    "    # @test xmean[5] ≈ -200 / 100 / .15 rtol = 1e-6         # POINTS = 0.5\n",
    "    @test xmean[6] ≈ 0                                    # POINTS = 0.2\n",
    "    @test xmean[7] ≈ 12.2                                 # POINTS = 0.2\n",
    "    @test xmean[8] ≈ 0                                    # POINTS = 0.1\n",
    "end;"
   ],
   "outputs": [
    {
     "output_type": "stream",
     "name": "stdout",
     "text": [
      "p_x[N - 1] = 1.0\n",
      "Xref[N - 1] = [1.0, -2.5, 0.0, -6.666666666666667, 16.666666666666668, 0.0, 12.2, 0.0]\n",
      "\u001b[0m\u001b[1mTest Summary: | \u001b[22m\u001b[32m\u001b[1mPass  \u001b[22m\u001b[39m\u001b[36m\u001b[1mTotal\u001b[22m\u001b[39m\n",
      "Q3a           | \u001b[32m   5  \u001b[39m\u001b[36m    5\u001b[39m\n"
     ]
    }
   ],
   "metadata": {}
  },
  {
   "cell_type": "markdown",
   "source": [
    "## Part (b): Design an LQR Controller (5 pts)\n",
    "As we saw in Q1, a simple infinite-gain LQR controller can work extremely effectively. Write a method to calculate the infinite-horizon gain `K` and cost-to-go `P`. We'll use `K` to control our system and `P` as the $Q_f$ weight matrix for our MPC controller later. It's fine to solve the LQR problem with a long horizon until the cost-to-go converges to a steady-state value. You should NOT use `dlqr` or `dare` from the ControlSystems package, but you can use those methods to check your answer. \n",
    "\n",
    "The controller stores a reference trajectory, which is tracked online using the same `K` matrix. This is valid since our dynamics linearization is invariant to the spatial location of the rocket."
   ],
   "metadata": {}
  },
  {
   "cell_type": "code",
   "execution_count": 141,
   "source": [
    "# TASK: Implement the following methods:\n",
    "#       get_control (3 pts)\n",
    "#       lqr         (2 pts)\n",
    "\n",
    "\"\"\"\n",
    "    LQRController\n",
    "\n",
    "Type for evaluting an infinite-horizon time-invariant LQR control policy. \n",
    "\"\"\"\n",
    "struct LQRController\n",
    "    K::Matrix{Float64}\n",
    "    Xref::Vector{Vector{Float64}}\n",
    "    Uref::Vector{Vector{Float64}}\n",
    "    times::Vector{Float64}\n",
    "end\n",
    "\n",
    "\"\"\"\n",
    "    get_k(ctrl, t)\n",
    "\n",
    "Get the time index corresponding to time `t`. \n",
    "Useful for implementing zero-order hold control.\n",
    "Uses binary search to find the time index.\n",
    "\"\"\"\n",
    "get_k(controller, t) = searchsortedlast(controller.times, t)\n",
    "\n",
    "\"\"\"\n",
    "    get_control(ctrl, x, t)\n",
    "\n",
    "Evaluate the LQR feedback policy at state `x` and time `t`, returning the control \n",
    "to be executed by the system.\n",
    "\"\"\"\n",
    "function get_control(ctrl::LQRController, x, t)\n",
    "    # k = get_k(ctrl, t)\n",
    "    # TODO: Implement the control policy\n",
    "    u = fill(NaN, length(ctrl.Uref[1]))\n",
    "    u = ctrl.Uref[get_k(ctrl,t)]-ctrl.K*(x-ctrl.Xref[get_k(ctrl,t)]);\n",
    "    return u\n",
    "end\n",
    "\n",
    "\"\"\"\n",
    "    lqr(A,B,Q,R; kwargs...)\n",
    "\n",
    "Calculate the infinite-horizon LQR gain from dynamics Jacobians `A` and `B` and\n",
    "cost matrices `Q` and `R`. Returns the infinite-horizon gain `K` and cost-to-go `P`.\n",
    "\n",
    "# Keyword Arguments\n",
    "* `P`: Provide an initial guess for the infinite-horizon gain\n",
    "* `max_iters`: maximum number of iterations\n",
    "* `tol`: tolerance for solve\n",
    "` `verbose`: print the number of iterations\n",
    "\"\"\"\n",
    "function lqr(A,B,Q,R; P=Matrix(Q), tol=1e-8, max_iters=400, verbose=false)\n",
    "    # initialize the output\n",
    "    n,m = size(B)\n",
    "    K = zeros(m,n)\n",
    "    # TODO: calculate the infinite-horizon LQR solution\n",
    "    P = [zeros(n,n) for k = 1:N]\n",
    "    K = [zeros(m,n) for k = 1:N-1]\n",
    "    # TODO: implement the Riccati recursion\n",
    "    P[end] .= copy(Q)\n",
    "    for k = reverse(1:N-1) \n",
    "        K[k] .= (R + B'P[k+1]*B)\\(B'P[k+1]*A)\n",
    "        P[k] .= Q + A'P[k+1]*A - A'P[k+1]*B*K[k]\n",
    "    end\n",
    "    # return the feedback gains and ctg matrices\n",
    "    return K[1],P[1]\n",
    "end"
   ],
   "outputs": [
    {
     "data": {
      "text/plain": [
       "lqr"
      ]
     },
     "metadata": {},
     "output_type": "display_data"
    }
   ],
   "metadata": {}
  },
  {
   "cell_type": "code",
   "execution_count": 142,
   "source": [
    "# Create LQR controller\n",
    "K,Qf = lqr(A,B,Q,R)\n",
    "ctrl = LQRController(K,Xref,Uref,tref);"
   ],
   "outputs": [],
   "metadata": {}
  },
  {
   "cell_type": "code",
   "execution_count": 143,
   "source": [
    "# Simulate and visualize the result\n",
    "if !isautograder\n",
    "    vis = initialize_visualizer(model)\n",
    "    render(vis)\n",
    "end"
   ],
   "outputs": [
    {
     "output_type": "stream",
     "name": "stderr",
     "text": [
      "┌ Info: MeshCat server started. You can open the visualizer by visiting the following URL in your browser:\n",
      "│ http://127.0.0.1:8706\n",
      "└ @ MeshCat /Users/Augusto/.julia/packages/MeshCat/Ax8pH/src/visualizer.jl:73\n"
     ]
    },
    {
     "data": {
      "text/html": [
       "    <div style=\"height: 500px; width: 100%; overflow-x: auto; overflow-y: hidden; resize: both\">\n",
       "    <iframe src=\"http://127.0.0.1:8706\" style=\"width: 100%; height: 100%; border: none\"></iframe>\n",
       "    </div>\n"
      ],
      "text/plain": [
       "MeshCat.DisplayedVisualizer(MeshCat.CoreVisualizer(MeshCat.SceneTrees.SceneNode(nothing, nothing, Dict{String, Vector{UInt8}}(), nothing, Dict{String, MeshCat.SceneTrees.SceneNode}(\"meshcat\" => MeshCat.SceneTrees.SceneNode(nothing, nothing, Dict{String, Vector{UInt8}}(), nothing, Dict{String, MeshCat.SceneTrees.SceneNode}(\"robot\" => MeshCat.SceneTrees.SceneNode(nothing, nothing, Dict{String, Vector{UInt8}}(), nothing, Dict{String, MeshCat.SceneTrees.SceneNode}(\"geom\" => MeshCat.SceneTrees.SceneNode(nothing, nothing, Dict{String, Vector{UInt8}}(), nothing, Dict{String, MeshCat.SceneTrees.SceneNode}(\"gimbal\" => MeshCat.SceneTrees.SceneNode(nothing, nothing, Dict{String, Vector{UInt8}}(), nothing, Dict{String, MeshCat.SceneTrees.SceneNode}(\"cone\" => MeshCat.SceneTrees.SceneNode(UInt8[0x83, 0xa6, 0x6f, 0x62, 0x6a, 0x65, 0x63, 0x74, 0x84, 0xaa  …  0x69, 0x6d, 0x62, 0x61, 0x6c, 0x2f, 0x63, 0x6f, 0x6e, 0x65], UInt8[0x83, 0xa6, 0x6d, 0x61, 0x74, 0x72, 0x69, 0x78, 0xc7, 0x40  …  0x69, 0x6d, 0x62, 0x61, 0x6c, 0x2f, 0x63, 0x6f, 0x6e, 0x65], Dict{String, Vector{UInt8}}(), nothing, Dict{String, MeshCat.SceneTrees.SceneNode}()))), \"fuselage\" => MeshCat.SceneTrees.SceneNode(UInt8[0x83, 0xa6, 0x6f, 0x62, 0x6a, 0x65, 0x63, 0x74, 0x84, 0xaa  …  0x6d, 0x2f, 0x66, 0x75, 0x73, 0x65, 0x6c, 0x61, 0x67, 0x65], nothing, Dict{String, Vector{UInt8}}(), nothing, Dict{String, MeshCat.SceneTrees.SceneNode}()), \"tip\" => MeshCat.SceneTrees.SceneNode(UInt8[0x83, 0xa6, 0x6f, 0x62, 0x6a, 0x65, 0x63, 0x74, 0x84, 0xaa  …  0x74, 0x2f, 0x67, 0x65, 0x6f, 0x6d, 0x2f, 0x74, 0x69, 0x70], nothing, Dict{String, Vector{UInt8}}(), nothing, Dict{String, MeshCat.SceneTrees.SceneNode}()), \"fins\" => MeshCat.SceneTrees.SceneNode(UInt8[0x83, 0xa6, 0x6f, 0x62, 0x6a, 0x65, 0x63, 0x74, 0x84, 0xaa  …  0x2f, 0x67, 0x65, 0x6f, 0x6d, 0x2f, 0x66, 0x69, 0x6e, 0x73], nothing, Dict{String, Vector{UInt8}}(), nothing, Dict{String, MeshCat.SceneTrees.SceneNode}()))))))))), Set{Any}(), ip\"127.0.0.1\", 8706))"
      ]
     },
     "metadata": {},
     "output_type": "display_data"
    }
   ],
   "metadata": {}
  },
  {
   "cell_type": "code",
   "execution_count": 149,
   "source": [
    "dx = zeros(8)\n",
    "dx[1:2] .= [10,10]  # we're off from our initial spot by a few meters\n",
    "dx[5] = -10         # it's coming down a little faster than expected\n",
    "dx[6] = 1.1         # add some initial angular velocity\n",
    "x0 = Xref[1] + dx\n",
    "Xlqr,Ulqr,tlqr = simulate(model, x0, ctrl, tf=50);\n",
    "isautograder || visualize!(vis, model, tlqr[end] / 10, Xlqr)  # divide the time to speed it up"
   ],
   "outputs": [
    {
     "output_type": "stream",
     "name": "stdout",
     "text": [
      "Controller ran at 930334.6581750298 Hz\n"
     ]
    }
   ],
   "metadata": {}
  },
  {
   "cell_type": "code",
   "execution_count": 145,
   "source": [
    "@testset \"Q3b\" begin                          # POINTS = 5\n",
    "    dx = [\n",
    "        1.929094900384797,\n",
    "        1.3289659218797703,\n",
    "       -1.1940032610827314,\n",
    "        0.6035052846069947,\n",
    "        0.1223347579198458,\n",
    "       -1.0399155799859232,\n",
    "        0.2632145814885595,\n",
    "       -1.0004103548732461\n",
    "    ]\n",
    "    @test ctrl.K ≈ dlqr(A,B,Matrix(Q),Matrix(R)) rtol = 1e-3   # POINTS = 0.5\n",
    "    @test Qf ≈ dare(A,B,Matrix(Q),Matrix(R)) rtol = 1e-3       # POINTS = 0.5\n",
    "    xtest = xeq + dx\n",
    "    @test all(1:N-1) do k\n",
    "        get_control(ctrl, Xref[k], tref[k]) ≈ zeros(2)\n",
    "    end\n",
    "    @test !(get_control(ctrl, xtest, tref[1]) ≈ get_control(ctrl, xtest, tref[end]))  # POINTS = 0.5\n",
    "    @test get_control(ctrl, Xref[10] + xtest, tref[10]) ≈ \n",
    "        get_control(ctrl, Xref[end] + xtest, tref[end])                               # POINTS = 0.5   \n",
    "\n",
    "    @test norm(Xlqr[end][4:6]) < 0.1                                                  # POINTS = 1\n",
    "    @test norm(Xlqr[end][1:3]) < 0.1                                                  # POINTS = 1\n",
    "    @test minimum([x[2] for x in Xlqr]) < -10\n",
    "    @test maximum([x[7] for x in Xlqr]) > RobotZoo.umax(model)[1]                     # POINTS = 0.5\n",
    "    @test maximum([abs(x[3]) for x in Xlqr]) > deg2rad(model.max_roll)                # POINTS = 0.5\n",
    "end;"
   ],
   "outputs": [
    {
     "output_type": "stream",
     "name": "stdout",
     "text": [
      "\u001b[0m\u001b[1mTest Summary: | \u001b[22m\u001b[32m\u001b[1mPass  \u001b[22m\u001b[39m\u001b[36m\u001b[1mTotal\u001b[22m\u001b[39m\n",
      "Q3b           | \u001b[32m  10  \u001b[39m\u001b[36m   10\u001b[39m\n"
     ]
    }
   ],
   "metadata": {}
  },
  {
   "cell_type": "markdown",
   "source": [
    "## Part (c): Design an MPC Controller (30 pts)\n",
    "We'll now design QP-based MPC controller for our rocket. We've set up the basic structure below, which is already setup to work with OSQP. Your job is to generate the QP OSQP will need to solve at each iteration.\n",
    "\n",
    "Your QP should look something like this:\n",
    "$$ \\begin{align}\n",
    "    &\\text{minimize}_{z} && \\frac{1}{2} z^T P z + q^T z \\\\\n",
    "    &\\text{subject to} && D z = d \\\\\n",
    "    &&& C z \\leq d \\\\\n",
    "\\end{align} $$\n",
    "\n",
    "where $z$ is the concatenated vector of states and controls at each time step. Since we've linearized our system about the point $(x_\\text{eq}, u_\\text{eq})$, these state and controls are defined relative to this reference. The equality constraints are just the linearized dynamics constraints:\n",
    "\n",
    "$$ \n",
    "\\begin{bmatrix} \n",
    "    B & -I \\\\ \n",
    "      & A & B & -I \\\\\n",
    "      &   &   &   & \\ddots \\\\\n",
    "      &   &   &   & & A & B -I \\\\\n",
    "\\end{bmatrix}\n",
    "\\begin{bmatrix} u_0 \\\\ x_1 \\\\ u_1 \\\\ \\vdots \\\\ x_{N-1} \\\\ u_{N-1} \\\\ x_N \\end{bmatrix} = \n",
    "\\begin{bmatrix} -A (x_1 - x_{eq}) \\\\ 0 \\\\ \\vdots \\\\ 0 \\end{bmatrix}\n",
    "$$\n",
    "\n",
    "and the cost matrices $P$ and $q$ look are defined as:\n",
    "$$\n",
    "P = \\begin{bmatrix}\n",
    "R \\\\\n",
    "& Q \\\\\n",
    "&& \\ddots \\\\\n",
    "&&& R \\\\\n",
    "&&&& Q_f\n",
    "\\end{bmatrix}, \\quad\n",
    "q = \\begin{bmatrix}\n",
    "    -R(\\bar{u}_1 - u_{eq}) \\\\\n",
    "    -Q(\\bar{x}_2 - x_{eq}) \\\\\n",
    "    \\vdots \\\\\n",
    "    -R(\\bar{u}_{N-1} - u_{eq}) \\\\\n",
    "    -Q_f(\\bar{x}_N - x_{eq}) \\\\\n",
    "\\end{bmatrix}\n",
    "$$\n",
    "\n",
    "Note that the states and controls in our QP are defined relative to our linearization point at the origin $(x_{eq}, u_{eq})$. As the MPC progresses along the horizon, the reference states and controls $(\\bar{x},\\bar{u})$ will change.\n",
    "\n",
    "We won't have inequality constraints in this part, but we'll add them in the next section!"
   ],
   "metadata": {}
  },
  {
   "cell_type": "code",
   "execution_count": null,
   "source": [
    "# All of the code in this cell is provided. There is no need to modify it.\n",
    "\"\"\"\n",
    "    MPCController\n",
    "\n",
    "An MPC controller that uses a solver of type `S` to solve a QP at every iteration.\n",
    "\n",
    "It will track the reference trajectory specified by `Xref`, `Uref` and `times` \n",
    "with an MPC horizon of `Nmpc`. It will track the terminal reference state if \n",
    "the horizon extends beyond the reference horizon.\n",
    "\"\"\"\n",
    "struct MPCController{S}\n",
    "    P::SparseMatrixCSC{Float64,Int}\n",
    "    q::Vector{Float64}\n",
    "    A::SparseMatrixCSC{Float64,Int}\n",
    "    lb::Vector{Float64}\n",
    "    ub::Vector{Float64}\n",
    "    Nmpc::Int\n",
    "    solver::S\n",
    "    Xref::Vector{Vector{Float64}}\n",
    "    Uref::Vector{Vector{Float64}}\n",
    "    times::Vector{Float64}\n",
    "end\n",
    "\n",
    "\"\"\"\n",
    "    OSQPController(n,m,N,Nref,Nd)\n",
    "\n",
    "Generate an `MPCController` that uses OSQP to solve the QP.\n",
    "Initializes the controller with matrices consistent with `n` states,\n",
    "`m` controls, and an MPC horizon of `N`, and `Nd` constraints. \n",
    "\n",
    "Use `Nref` to initialize a reference trajectory whose length may differ from the \n",
    "horizon length.\n",
    "\"\"\"\n",
    "function OSQPController(n::Integer, m::Integer, N::Integer, Nref::Integer=N, Nd::Integer=(N-1)*n)\n",
    "    Np = (N-1)*(n+m)   # number of primals\n",
    "    P = spzeros(Np,Np)\n",
    "    q = zeros(Np)\n",
    "    A = spzeros(Nd,Np)\n",
    "    lb = zeros(Nd)\n",
    "    ub = zeros(Nd)\n",
    "    Xref = [zeros(n) for k = 1:Nref]\n",
    "    Uref = [zeros(m) for k = 1:Nref]\n",
    "    tref = zeros(Nref)\n",
    "    solver = OSQP.Model()\n",
    "    MPCController{OSQP.Model}(P,q, A,lb,ub, N, solver, Xref, Uref, tref)\n",
    "end\n",
    "\n",
    "isconstrained(ctrl::MPCController) = length(ctrl.lb) != (ctrl.Nmpc - 1) * length(ctrl.Xref[1])\n",
    "\n",
    "\"\"\"\n",
    "    buildQP!(ctrl, A,B,Q,R,Qf; kwargs...)\n",
    "\n",
    "Build the QP matrices `P` and `A` for the MPC problem. Note that these matrices\n",
    "should be constant between MPC iterations.\n",
    "\n",
    "Any keyword arguments will be passed to `initialize_solver!`.\n",
    "\"\"\"\n",
    "function buildQP!(ctrl::MPCController, A,B,Q,R,Qf; kwargs...)\n",
    "    if isconstrained(ctrl)\n",
    "        buildQP_constrained!(ctrl::MPCController, A,B,Q,R,Qf; kwargs...)\n",
    "    else\n",
    "        buildQP_unconstrained!(ctrl::MPCController, A,B,Q,R,Qf; kwargs...)\n",
    "    end\n",
    "end\n",
    "\n",
    "\"\"\"\n",
    "    updateQP!(ctrl::MPCController, x, time)\n",
    "\n",
    "Update the vectors in the QP problem for the current state `x` and time `time`.\n",
    "This should update `ctrl.q`, `ctrl.lb`, and `ctrl.ub`.\n",
    "\"\"\"\n",
    "function updateQP!(ctrl::MPCController, x, time)\n",
    "    if isconstrained(ctrl)\n",
    "        updateQP_constrained!(ctrl, x, time)\n",
    "    else\n",
    "        updateQP_unconstrained!(ctrl, x, time)\n",
    "    end\n",
    "end\n",
    "\n",
    "\n",
    "\"\"\"\n",
    "    initialize_solver!(ctrl::MPCController; kwargs...)\n",
    "\n",
    "Initialize the internal solver once the QP matrices are initialized in the \n",
    "controller.\n",
    "\"\"\"\n",
    "function initialize_solver!(ctrl::MPCController{OSQP.Model}; tol=1e-6, verbose=false)\n",
    "    OSQP.setup!(ctrl.solver, P=ctrl.P, q=ctrl.q, A=ctrl.A, l=ctrl.lb, u=ctrl.ub, \n",
    "        verbose=verbose, eps_rel=tol, eps_abs=tol, polish=1)\n",
    "end\n",
    "\n",
    "\"\"\"\n",
    "    get_control(ctrl::MPCController, x, t)\n",
    "\n",
    "Get the control from the MPC solver by solving the QP. \n",
    "If you want to use your own QP solver, you'll need to change this\n",
    "method.\n",
    "\"\"\"\n",
    "function get_control(ctrl::MPCController{OSQP.Model}, x, time)\n",
    "    # Update the QP\n",
    "    updateQP!(ctrl, x, time)\n",
    "    OSQP.update!(ctrl.solver, q=ctrl.q, l=ctrl.lb, u=ctrl.ub)\n",
    "\n",
    "    # Solve QP\n",
    "    results = OSQP.solve!(ctrl.solver)\n",
    "    Δu = results.x[1:2]\n",
    "    \n",
    "    k = get_k(ctrl, time)\n",
    "    return ctrl.Uref[k] + Δu \n",
    "end\n"
   ],
   "outputs": [],
   "metadata": {}
  },
  {
   "cell_type": "code",
   "execution_count": null,
   "source": [
    "# TASK: Implement the following methods:\n",
    "#       buildQP_unconstrained!  (15 pts)\n",
    "#       updateQP_unconstrained! (15 pts)\n",
    "function buildQP_unconstrained!(ctrl::MPCController, A,B,Q,R,Qf; kwargs...)\n",
    "     # TODO: Implement this method to build the QP matrices\n",
    "    \n",
    "    \n",
    "    # Initialize the included solver\n",
    "    #    If you want to use your QP solver, you should write your own\n",
    "    #    method for this function\n",
    "    initialize_solver!(ctrl; kwargs...)\n",
    "    return nothing\n",
    "end\n",
    "\n",
    "\n",
    "function updateQP_unconstrained!(ctrl::MPCController, x, time)\n",
    "    # TODO: Implement this method\n",
    "\n",
    "    return nothing\n",
    "end"
   ],
   "outputs": [],
   "metadata": {}
  },
  {
   "cell_type": "code",
   "execution_count": null,
   "source": [
    "# Initialize the unconstrained MPC problem\n",
    "Nmpc = 51           # MPC Horizon\n",
    "mpc1 = OSQPController(n, m, Nmpc, length(Xref))\n",
    "\n",
    "# Provide the reference trajectory\n",
    "mpc1.Xref .= Xref\n",
    "mpc1.Uref .= Uref\n",
    "mpc1.times .= tref\n",
    "\n",
    "# Build the sparse QP matrices\n",
    "buildQP!(mpc1, A,B,Q,R,Qf, tol=1e-2)"
   ],
   "outputs": [],
   "metadata": {}
  },
  {
   "cell_type": "code",
   "execution_count": null,
   "source": [
    "isautograder || render(vis)"
   ],
   "outputs": [],
   "metadata": {}
  },
  {
   "cell_type": "code",
   "execution_count": null,
   "source": [
    "Xmpc1,Umpc1,tmpc1 = simulate(model, x0, mpc1, tf=50)\n",
    "isautograder || visualize!(vis, model, tmpc1[end] / 10, Xmpc1)"
   ],
   "outputs": [],
   "metadata": {}
  },
  {
   "cell_type": "markdown",
   "source": [
    "### Analyzing the Results\n",
    "Let's look at some plots to see how our LQR and MPC solutions compare.\n",
    "\n",
    "What do you see? How do the solutions differ? Can you see how the MPC controller is \"looking ahead?\" \n",
    "\n",
    "Your MPC results should be better than your simple LQR controller, but it will still be violating the constraints. Let's add some constraints to our QP to try to fix that!"
   ],
   "metadata": {}
  },
  {
   "cell_type": "code",
   "execution_count": null,
   "source": [
    "isautograder || comparison_plot(model, (Xlqr,Ulqr,tlqr,\"LQR\"), (Xmpc1,Umpc1,tmpc1,\"MPC\"))"
   ],
   "outputs": [],
   "metadata": {}
  },
  {
   "cell_type": "code",
   "execution_count": null,
   "source": [
    "using BlockArrays\n",
    "@testset \"Q3c\" begin                                   # POINTS = 30\n",
    "    Np = 50*(n+m)\n",
    "    Nd1 = 50*n\n",
    "    @test size(mpc1.P) == (Np,Np)                      # POINTS = 1\n",
    "    size(mpc1.A) == (Nd1, Np)\n",
    "    parts1 = fill(n,50)\n",
    "    parts2 = repeat([m,n],50)\n",
    "    D = PseudoBlockArray(mpc1.A, parts1, parts2)\n",
    "    @test D[Block(1,1)] ≈ B                            # POINTS = 1\n",
    "    @test D[Block(2,1)] ≈ zero(B)                      # POINTS = 1\n",
    "    @test D[Block(2,2)] ≈ A                            # POINTS = 1\n",
    "    @test D[Block(2,4)] ≈ -I(n)                        # POINTS = 1\n",
    "    @test D[Block(3,4)] ≈ A                            # POINTS = 1\n",
    "    @test D[Block(3,5)] ≈ B                            # POINTS = 1\n",
    "    @test D[Block(3,6)] ≈ -I(n)                        # POINTS = 1\n",
    "\n",
    "    H = PseudoBlockArray(mpc1.P, parts2, parts2)\n",
    "    @test H[Block(1,1)] ≈ R                            # POINTS = 1\n",
    "    @test H[Block(2,2)] ≈ Q                            # POINTS = 1\n",
    "    @test H[Block(100,100)] ≈ Qf                       # POINTS = 1\n",
    "    get_control(mpc1, Xref[1], tref[1])\n",
    "    g = PseudoBlockArray(mpc1.q, parts2)\n",
    "    @test g[Block(1)] ≈ zeros(2)                       # POINTS = 1\n",
    "    @test g[Block(2)] ≈ -Q*(Xref[2] - xeq)             # POINTS = 1\n",
    "    @test g[Block(3)] ≈ zeros(2)                       # POINTS = 1\n",
    "    @test g[Block(4)] ≈ -Q*(Xref[3] - xeq)             # POINTS = 1\n",
    "    @test g[Block(100)] ≈ -Qf*(Xref[51] - xeq)         # POINTS = 1\n",
    "\n",
    "    get_control(mpc1, Xref[1], tref[10])\n",
    "    @test g[Block(2)] ≈ -Q*(Xref[11] - xeq)            # POINTS = 1\n",
    "    @test g[Block(4)] ≈ -Q*(Xref[12] - xeq)            # POINTS = 1\n",
    "\n",
    "    get_control(mpc1, Xref[1], tref[end-10])\n",
    "    @test g[Block(2)] ≈ -Q*(Xref[242] - xeq)           # POINTS = 1\n",
    "    @test g[Block(2*9)] ≈ -Q*(Xref[250] - xeq)         # POINTS = 1\n",
    "    @test g[Block(2*11)] ≈ zeros(8)                    # POINTS = 1\n",
    "    @test mpc1.lb[1:n] ≈ -A*(Xref[1] - xeq)            # POINTS = 1\n",
    "\n",
    "    @test norm(Xmpc1[end][4:6]) < 1e-2                 # POINTS = 1\n",
    "    @test norm(Xmpc1[end][1:3]) < 1e-2                 # POINTS = 1\n",
    "    @test minimum([x[2] for x in Xmpc1]) < 0           # POINTS = 2\n",
    "    @test minimum([x[2] for x in Xmpc1]) > -5          # POINTS = 2\n",
    "    @test maximum([x[7] for x in Xmpc1]) - RobotZoo.umax(model)[1]  > 10        # POINTS = 1\n",
    "    @test maximum([abs(x[3]) for x in Xmpc1]) - deg2rad(model.max_roll) > 1e-2  # POINTS = 1\n",
    "end;"
   ],
   "outputs": [],
   "metadata": {}
  },
  {
   "cell_type": "markdown",
   "source": [
    "## Part (d): Add in Constraints (12 pts)\n",
    "Add the following constraints to your optimization problem:\n",
    "$$\\begin{align}\n",
    "    |\\theta | &\\leq 5^{\\circ} \\\\\n",
    "    |\\phi| & \\leq 10^{\\circ} \\\\\n",
    "    z &\\geq 0 \\\\\n",
    "    0.75 &\\leq \\frac{1}{mg} T \\leq 1.5\n",
    "\\end{align}\n",
    "$$\n",
    "\n",
    "**TASK**: Modify the `build_QP` and `update_QP` methods above to add in the  constraints . You should add some logic that checks only adds the constraints if there's room in the matrices, that way we can still use the method to generate our unconstrained solver."
   ],
   "metadata": {}
  },
  {
   "cell_type": "code",
   "execution_count": null,
   "source": [
    "\"\"\"\n",
    "    buildQP!(ctrl, A,B,Q,R,Qf; kwargs...)\n",
    "\n",
    "Build the QP matrices `P` and `A` for the MPC problem. Note that these matrices\n",
    "should be constant between MPC iterations.\n",
    "\n",
    "Any keyword arguments will be passed to `initialize_solver!`.\n",
    "\"\"\"\n",
    "function buildQP_constrained!(ctrl::MPCController, A,B,Q,R,Qf; kwargs...)\n",
    "    # TODO: Implement this method to build the QP matrices\n",
    "    \n",
    "    # Initialize the included solver\n",
    "    #    If you want to use your QP solver, you should write your own\n",
    "    #    method for this function\n",
    "    initialize_solver!(ctrl; kwargs...)\n",
    "    return nothing\n",
    "end\n",
    "\n",
    "\"\"\"\n",
    "    update_QP!(ctrl::MPCController, x, time)\n",
    "\n",
    "Update the vectors in the QP problem for the current state `x` and time `time`.\n",
    "This should update `ctrl.q`, `ctrl.lb`, and `ctrl.ub`.\n",
    "\"\"\"\n",
    "function updateQP_constrained!(ctrl::MPCController, x, time)\n",
    "    # TODO: Implement this method\n",
    "\n",
    "    return nothing\n",
    "end"
   ],
   "outputs": [],
   "metadata": {}
  },
  {
   "cell_type": "code",
   "execution_count": null,
   "source": [
    "# Initialize the constrained MPC controller\n",
    "Nd = (Nmpc-1)*(n+4)\n",
    "mpc2 = OSQPController(n, m, Nmpc, length(Xref), Nd)\n",
    "mpc2.Xref .= Xref\n",
    "mpc2.Uref .= Uref\n",
    "mpc2.times .= tref\n",
    "buildQP!(mpc2, A,B,Q,R,Qf, tol=1e-2, verbose=false)"
   ],
   "outputs": [],
   "metadata": {}
  },
  {
   "cell_type": "code",
   "execution_count": null,
   "source": [
    "isautograder || render(vis)"
   ],
   "outputs": [],
   "metadata": {}
  },
  {
   "cell_type": "code",
   "execution_count": null,
   "source": [
    "Xmpc2,Umpc2,tmpc2 = simulate(model, x0, mpc2, tf=50)\n",
    "isautograder || visualize!(vis, model, tmpc2[end] / 10, Xmpc2)"
   ],
   "outputs": [],
   "metadata": {}
  },
  {
   "cell_type": "markdown",
   "source": [
    "### Analyzing the results\n",
    "Let's check our plots again to see how we did! You should see that the solution now (mostly) satisfies the constraints. You should notice that it violates the roll angle limit slightly. Why do you think that is? Is there a way we could prevent that? In the next (and last) section, we'll explore the effects of changing the MPC horizon."
   ],
   "metadata": {}
  },
  {
   "cell_type": "code",
   "execution_count": null,
   "source": [
    "isautograder || comparison_plot(model, (Xlqr,Ulqr,tlqr,\"LQR\"), (Xmpc1,Umpc1,tmpc1,\"MPC\"), (Xmpc2,Umpc2,tmpc2,\"MPC\"))"
   ],
   "outputs": [],
   "metadata": {}
  },
  {
   "cell_type": "code",
   "execution_count": null,
   "source": [
    "@testset \"Q3d\" begin                             # POINTS = 12\n",
    "    Np = 50*(n+m)\n",
    "    Nd2 = 50*(n+4)\n",
    "    @test size(mpc2.A) == (Nd2,Np)               # POINTS = 2\n",
    "\n",
    "    @test norm(Xmpc2[end][4:6]) < 1e-2           # POINTS = 2 \n",
    "    @test norm(Xmpc2[end][1:3]) < 1e-2           # POINTS = 2\n",
    "    @test minimum([x[2] for x in Xmpc2]) < 0     # POINTS = 2\n",
    "    @test minimum([x[2] for x in Xmpc2]) > -0.1  # POINTS = 2\n",
    "    @test (maximum([x[7] for x in Xmpc2]) - RobotZoo.umax(model)[1]) < 1e-3     # POINTS = 1\n",
    "    @test maximum([abs(x[3]) for x in Xmpc2]) - deg2rad(model.max_roll) < 1e-1  # POINTS = 1\n",
    "end;"
   ],
   "outputs": [],
   "metadata": {}
  },
  {
   "cell_type": "markdown",
   "source": [
    "## Part (e): Changing the Horizon\n",
    "Let's see how our solution changes with the horizon. Note, there's nothing we're asking you to do here, just take minute to look at the plots and convince yourself of what's going on."
   ],
   "metadata": {}
  },
  {
   "cell_type": "code",
   "execution_count": null,
   "source": [
    "# Run with a 1-step horizon\n",
    "Nmpc = 2\n",
    "\n",
    "# Constrained MPC\n",
    "mpc3 = OSQPController(n, m, Nmpc, length(Xref))\n",
    "mpc3.Xref .= Xref\n",
    "mpc3.Uref .= Uref\n",
    "mpc3.times .= tref\n",
    "buildQP!(mpc3, A,B,Q,R,Qf, tol=1e-2, verbose=false)\n",
    "Xmpc3,Umpc3,tmpc3 = simulate(model, Xref[1], mpc3, tf=50)\n",
    "\n",
    "# Constrained MPC\n",
    "Nd = (Nmpc-1)*(n+4)\n",
    "mpc4 = OSQPController(n, m, Nmpc, length(Xref), Nd)\n",
    "mpc4.Xref .= Xref\n",
    "mpc4.Uref .= Uref\n",
    "mpc4.times .= tref\n",
    "buildQP!(mpc4, A,B,Q,R,Qf, tol=1e-2, verbose=false)\n",
    "Xmpc4,Umpc4,tmpc4 = simulate(model, Xref[1], mpc4, tf=50);"
   ],
   "outputs": [],
   "metadata": {}
  },
  {
   "cell_type": "code",
   "execution_count": null,
   "source": [
    "isautograder || comparison_plot(model, (Xlqr,Ulqr,tlqr,\"LQR\"), (Xmpc3,Umpc3,tmpc3,\"MPC\"), (Xmpc4,Umpc4,tmpc4,\"MPC-Con\"))"
   ],
   "outputs": [],
   "metadata": {}
  },
  {
   "cell_type": "code",
   "execution_count": null,
   "source": [
    "# Run with a bunch of horizons\n",
    "horizons = [21,31,41,51,61,71,81,91,101]\n",
    "\n",
    "Z = map(horizons) do Nmpc\n",
    "    # Constrained MPC\n",
    "    println(\"running with horizon = $Nmpc\")\n",
    "    Nd = (Nmpc-1)*(n+4)\n",
    "    mpc = OSQPController(n, m, Nmpc, length(Xref), Nd)\n",
    "    mpc.Xref .= Xref\n",
    "    mpc.Uref .= Uref\n",
    "    mpc.times .= tref\n",
    "    buildQP!(mpc, A,B,Q,R,Qf, tol=1e-2, verbose=false)\n",
    "    Xmpc,Umpc,tmpc = simulate(model, Xref[1], mpc, tf=50);\n",
    "    (Xmpc,Umpc,tmpc,\"N = \" * string(Nmpc))\n",
    "end;"
   ],
   "outputs": [],
   "metadata": {}
  },
  {
   "cell_type": "code",
   "execution_count": null,
   "source": [
    "isautograder || comparison_plot(model, Z...)"
   ],
   "outputs": [],
   "metadata": {}
  },
  {
   "cell_type": "markdown",
   "source": [
    "## Extra Credit: Use your QP Solver\n",
    "You can earn some extra credit by using the AL QP solver you built in the previous homework. You'll get more extra credit if you modify your QP solver to handle the unique structure that exists in the MPC QP problem. Include an example of using your QP solver below, along with a description of your approach."
   ],
   "metadata": {}
  }
 ],
 "metadata": {
  "@webio": {
   "lastCommId": null,
   "lastKernelId": null
  },
  "kernelspec": {
   "display_name": "Julia 1.6.5",
   "language": "julia",
   "name": "julia-1.6"
  },
  "language_info": {
   "file_extension": ".jl",
   "mimetype": "application/julia",
   "name": "julia",
   "version": "1.6.5"
  }
 },
 "nbformat": 4,
 "nbformat_minor": 4
}